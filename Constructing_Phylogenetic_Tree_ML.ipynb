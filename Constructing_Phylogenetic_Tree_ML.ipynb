{
 "cells": [
  {
   "cell_type": "markdown",
   "metadata": {},
   "source": [
    "# Constructing phylogenetic trees using Maximum Likelihood\n",
    "This Jupyter notebook is created as a project in the Algorithms in Bioinformatics course 2018 given by [Swedish National Graduate School in Medical Bioinformatics](http://www.medbioinfo.se/).   \n",
    "In this notebook I have \n",
    "\n",
    "1. Multiple Sequence Alignment\n",
    "2. Generating a random Tree\n",
    "\n",
    "\n",
    "So lets start with setting up the working environment\n",
    "\n",
    "Tree topology\n",
    "Branch lengths\n",
    "Nucleotide frequencies\n",
    "Nucleotide-nucleotide substitution rates\n"
   ]
  },
  {
   "cell_type": "code",
   "execution_count": 290,
   "metadata": {},
   "outputs": [],
   "source": [
    "import numpy as np\n",
    "import matplotlib.pyplot as plt\n",
    "import random"
   ]
  },
  {
   "cell_type": "markdown",
   "metadata": {},
   "source": [
    "### Maximum Likelihood"
   ]
  },
  {
   "cell_type": "markdown",
   "metadata": {},
   "source": [
    "### Multiple Sequence Alignment\n",
    "The first step in creating a phylogenetic tree is to do a multiple sequence alignment (MSA) of the sequences that we want to include in our tree. This is done to find [homologous](https://en.wikipedia.org/wiki/Sequence_homology) posititions in the sequences, that is finding positions that have a shared ancestry. There are many  different tools for doing this, but the most common ones are [ClustalW](https://www.ebi.ac.uk/Tools/msa/clustalo/), [MUSCLE](https://www.ebi.ac.uk/Tools/msa/muscle/) and [MAFFT](https://www.ebi.ac.uk/Tools/msa/mafft/).\n",
    "An MSA can be represented in many different ways and there are many different file formats for storing MSAs. The easiest way to represnt an MSA is to each row represent a sequnce in the alignment and each column represent a position in the alignment. If the alignment was done on the protein level each cell will contain either an ammino acid or a deletion sign, usually a -. In python we can represent an MSA as a dictionary where each key is the sequence identifier and each value is a list containing the element at each position in the alignment.\n",
    "Next we will create a function that can read an MSA stored in a the plain text fasta-format."
   ]
  },
  {
   "cell_type": "code",
   "execution_count": 26,
   "metadata": {},
   "outputs": [],
   "source": [
    "def read_msa(path):\n",
    "    \"\"\"\n",
    "    Read a multiple sequence alignment (MSA) in fasta format\n",
    "    and returns a dictionary where each key is the sequence\n",
    "    identifier and each value is a list with the elements\n",
    "    of the alignmnent.\n",
    "    \n",
    "    Args:\n",
    "    path (str) - Path to the fasta file.\n",
    "    \n",
    "    Return:\n",
    "    msa (dict) - The MSA in a dictionary\n",
    "    \"\"\"\n",
    "    msa = {}\n",
    "    with open(path, 'r') as fasta_file:\n",
    "        lines = fasta_file.readlines()\n",
    "        for i in range(len(lines)):\n",
    "            if lines[i][0] == '>':\n",
    "                seq_id = lines[i][1:].strip()\n",
    "                alignment = lines[i+1].strip()\n",
    "                msa[seq_id] = list(alignment)\n",
    "    \n",
    "    return msa"
   ]
  },
  {
   "cell_type": "code",
   "execution_count": 53,
   "metadata": {},
   "outputs": [
    {
     "name": "stdout",
     "output_type": "stream",
     "text": [
      "{'Seq_C': ['C'], 'Seq_E': ['C'], 'Seq_B': ['A'], 'Seq_A': ['A'], 'Seq_D': ['G']}\n"
     ]
    }
   ],
   "source": [
    "msa = read_msa('./data/msa_test.faa')\n",
    "print(msa)"
   ]
  },
  {
   "cell_type": "markdown",
   "metadata": {},
   "source": [
    "### The simple case\n",
    "We start with a simple case with an alignment of two sequences."
   ]
  },
  {
   "cell_type": "code",
   "execution_count": 6,
   "metadata": {},
   "outputs": [],
   "source": [
    "def calculate_jc_distance(substitutions, identical):\n",
    "    \"\"\"\n",
    "    Calculate the distance between two sequences\n",
    "    \"\"\"\n",
    "    distance = -(3/4) * np.log(1-(4/3) * (substitutions/(substitution + identical)))\n",
    "    return distance"
   ]
  },
  {
   "cell_type": "code",
   "execution_count": 7,
   "metadata": {},
   "outputs": [],
   "source": [
    "def count_substitutions(seq1, seq2):\n",
    "    \"\"\"\n",
    "    Function to count the number of susbtitutions in a pairwise alignmnent\n",
    "    \"\"\"\n",
    "    n_subst = 0\n",
    "    for index in range(len(seq1)):\n",
    "        if seq1[index] != seq2[index]:\n",
    "            n_subst += 1\n",
    "    return n_substitutions"
   ]
  },
  {
   "cell_type": "code",
   "execution_count": 206,
   "metadata": {},
   "outputs": [],
   "source": [
    "def prob_no_mutation_jc(distance):\n",
    "    \"\"\"\n",
    "    Calculate the probability to not observe a mutation for a given distance using Jukes-Cantor model\n",
    "    \"\"\"\n",
    "    prob = (1/4) * (1 + 3*np.exp((-4/3) * distance))\n",
    "    return prob"
   ]
  },
  {
   "cell_type": "code",
   "execution_count": 207,
   "metadata": {},
   "outputs": [],
   "source": [
    "def prob_mutation_jc(distance):\n",
    "    \"\"\"\n",
    "    Calculate the probability to observe a mutation for a given distance using Jukes-Cantor model.\n",
    "    \"\"\"\n",
    "    prob = (1/4) * (1 - np.exp((-4/3) * distance))\n",
    "    return prob"
   ]
  },
  {
   "cell_type": "markdown",
   "metadata": {},
   "source": [
    "### Tree structure"
   ]
  },
  {
   "cell_type": "code",
   "execution_count": 318,
   "metadata": {},
   "outputs": [],
   "source": [
    "class Node:\n",
    "    def __init__(self, alignment_length, alignment=False, left=None, right=None, center=None):\n",
    "        self.left = left\n",
    "        self.right = right\n",
    "        self.center = center\n",
    "        self.length = 0.1\n",
    "        self.alignment_seq = alignment\n",
    "        self.alignment_length = alignment_length \n",
    "        self.nucl_map = {'A':0, 'C':1, 'G':2, 'T':3}\n",
    "        self.set_nucl_probs()\n",
    "        \n",
    "        \n",
    "    def set_nucl_probs(self):   \n",
    "        if self.alignment_seq:\n",
    "            self.nucl_prob = np.zeros((4, self.alignment_length)) \n",
    "            for index, nucleotide in enumerate(self.alignment_seq):\n",
    "                row = self.nucl_map[nucleotide]\n",
    "                self.nucl_prob[row, index] = 1  # observed nucleotide\n",
    "        else:\n",
    "            self.node_prob()\n",
    "    \n",
    "    def node_prob(self):\n",
    "        # This function should be moved to the Tree class\n",
    "        self.nucl_prob = np.zeros((4, self.alignment_length))\n",
    "        for index in range(self.alignment_length):\n",
    "            for s, nucl_node in enumerate(['A', 'C', 'G', 'T']):\n",
    "                if self.center:  # only used for root node\n",
    "                    center_prob = 0\n",
    "                right_prob = 0\n",
    "                left_prob = 0\n",
    "                for x, nucl_children in enumerate(['A', 'C', 'G', 'T']):\n",
    "                    if nucl_node == nucl_children:\n",
    "                        right_prob += prob_no_mutation_jc(self.right.length) * self.right.nucl_prob[x, index]\n",
    "                        left_prob += prob_no_mutation_jc(self.left.length) * self.left.nucl_prob[x, index]\n",
    "                        if self.center:\n",
    "                            center_prob += prob_no_mutation_jc(self.center.length) * self.center.nucl_prob[x, index]\n",
    "                    else:\n",
    "                        right_prob += prob_mutation_jc(self.right.length) * self.right.nucl_prob[x, index]\n",
    "                        left_prob += prob_mutation_jc(self.left.length) * self.left.nucl_prob[x, index]\n",
    "                        if self.center:\n",
    "                            center_prob += prob_mutation_jc(self.center_distance) * self.center.nucl_prob[x, index] \n",
    "                if self.center:                 \n",
    "                    self.nucl_prob[s, index] = np.sum(right_prob) * np.sum(left_prob) * np.sum(center_prob)\n",
    "                else:\n",
    "                    self.nucl_prob[s, index] = np.sum(right_prob) * np.sum(left_prob)"
   ]
  },
  {
   "cell_type": "code",
   "execution_count": 335,
   "metadata": {},
   "outputs": [],
   "source": [
    "# http://www.lacim.uqam.ca/~chauve/Enseignement/BIF7001/H04/Documents/Settles-ML-Branches.pdf\n",
    "# Must find how the first and second derivatives are calculated to finish this function.\n",
    "def optimize_branch_length(node, tree):\n",
    "    epsilon = 0.001\n",
    "    original_length = length\n",
    "    old_likelihood = 0\n",
    "    done = False\n",
    "    better = False\n",
    "    it = 1\n",
    "    ite = 0\n",
    "    \n",
    "    while it <4 and ite < 20 and not done:\n",
    "        likelihood = compute_likelihood(tree)\n",
    "        if likelihood > old_likelihood:\n",
    "            old_length = y\n",
    "            old_likelihood = likelihood\n",
    "            better = True\n",
    "            it += 1\n",
    "        if better:\n",
    "            node.length = node.length + first_derative/abs(second_derative)\n",
    "        else:\n",
    "            node.length = (node.length + 19 * yold)/20\n",
    "        ite += 1\n",
    "        if abs(node.length-old_length) < epsilon:\n",
    "            done = True\n",
    "    p_length = yold\n",
    "    tree.log_likelihood = old_likelihood\n",
    "    "
   ]
  },
  {
   "cell_type": "code",
   "execution_count": 334,
   "metadata": {},
   "outputs": [],
   "source": [
    "class Tree:\n",
    "    def __init__(self, aln):\n",
    "        self.alignment = aln\n",
    "        self.set_alignment_length()\n",
    "        self.create_tree()\n",
    "        self.log_likelihood = self.get_prob()\n",
    "        \n",
    "    def set_alignment_length(self):\n",
    "        \"\"\"\n",
    "        \n",
    "        \"\"\"\n",
    "        for aln in self.alignment.keys():\n",
    "            self.alignment_length = len(self.alignment[aln])\n",
    "            break\n",
    "        \n",
    "    def create_tree(self):\n",
    "        \"\"\"\n",
    "        \n",
    "        \"\"\"\n",
    "        nodes = []\n",
    "        for seq in self.alignment.keys():\n",
    "            node = Node(alignment_length=self.alignment_length, alignment=self.alignment[seq])\n",
    "            nodes.append(node)\n",
    "        \n",
    "        while len(nodes) > 3:\n",
    "            node = Node(alignment_length=self.alignment_length, left=nodes[0], right=nodes[1])\n",
    "            nodes.pop(0)\n",
    "            nodes.pop(0)\n",
    "            nodes.append(node)\n",
    "        \n",
    "        self.root = Node(alignment_length=self.alignment_length, left=nodes[0], right=nodes[1], center=nodes[2])\n",
    "        self.root.length = None\n",
    "    \n",
    "    def calculate_log_likelihood(self):\n",
    "        # TODO: Instead of calculating the log-likelihood when the tree topology,\n",
    "        # implement the Felsensteins pruning algorithm here. Then the log-likelihood\n",
    "        # can be updated when there are changes in the branch lengths.\n",
    "        \"\"\"\n",
    "        \n",
    "        \"\"\"\n",
    "        print(np.sum(0.25 * self.root.nucl_prob.sum(axis=0)))\n",
    "        log_likelihoods = np.log(0.25 * self.root.nucl_prob.sum(axis=0))\n",
    "        return np.sum(log_likelihoods)"
   ]
  },
  {
   "cell_type": "code",
   "execution_count": null,
   "metadata": {},
   "outputs": [],
   "source": [
    "# Implement a tree-traversal to visit all nodes to optimize the branch-lengths"
   ]
  },
  {
   "cell_type": "code",
   "execution_count": 320,
   "metadata": {},
   "outputs": [
    {
     "name": "stdout",
     "output_type": "stream",
     "text": [
      "0.10391849419151006\n",
      "-27.943487826273014\n",
      "0.10366980692593511\n",
      "-29.000039572820285\n"
     ]
    }
   ],
   "source": [
    "aln = {'seq1':'CCAG', 'seq2':'CCTG', 'seq3':'CCAG', 'seq4':'GCAG', 'seq5':'ACAA', 'seq6':'CCTA'}\n",
    "tree = Tree(aln)\n",
    "print(tree.log_likelihood)\n",
    "aln = {'seq1':'ACAG', 'seq2':'CCTG', 'seq3':'CCAG', 'seq4':'GCAG', 'seq5':'CCAA', 'seq6':'CCTA'}\n",
    "tree = Tree(aln)\n",
    "print(tree.log_likelihood)"
   ]
  },
  {
   "cell_type": "markdown",
   "metadata": {},
   "source": [
    "### Felstein's pruning algorithm"
   ]
  },
  {
   "cell_type": "code",
   "execution_count": 82,
   "metadata": {},
   "outputs": [
    {
     "data": {
      "text/plain": [
       "-5.205091174921215"
      ]
     },
     "execution_count": 82,
     "metadata": {},
     "output_type": "execute_result"
    }
   ],
   "source": [
    "for nucl in ['A', 'C', 'G', 'T']\n",
    "node_prob[nucl] = node.right.prob(nucl) + node.left.prob(nucl)"
   ]
  },
  {
   "cell_type": "code",
   "execution_count": 125,
   "metadata": {
    "scrolled": true
   },
   "outputs": [
    {
     "data": {
      "image/png": "[encoded data removed]",
      "text/plain": [
       "<IPython.core.display.Image object>"
      ]
     },
     "execution_count": 125,
     "metadata": {},
     "output_type": "execute_result"
    }
   ],
   "source": [
    "t.render('%%inline')"
   ]
  },
  {
   "cell_type": "code",
   "execution_count": null,
   "metadata": {},
   "outputs": [],
   "source": []
  }
 ],
 "metadata": {
  "kernelspec": {
   "display_name": "Python 3",
   "language": "python",
   "name": "python3"
  },
  "language_info": {
   "codemirror_mode": {
    "name": "ipython",
    "version": 3
   },
   "file_extension": ".py",
   "mimetype": "text/x-python",
   "name": "python",
   "nbconvert_exporter": "python",
   "pygments_lexer": "ipython3",
   "version": "3.5.5"
  }
 },
 "nbformat": 4,
 "nbformat_minor": 2
}
