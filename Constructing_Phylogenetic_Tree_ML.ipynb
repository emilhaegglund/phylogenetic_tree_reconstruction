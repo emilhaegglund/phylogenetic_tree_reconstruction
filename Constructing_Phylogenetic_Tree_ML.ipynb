{
 "cells": [
  {
   "cell_type": "markdown",
   "metadata": {},
   "source": [
    "# Constructing phylogenetic trees using Maximum Likelihood\n",
    "This Jupyter notebook is created as a project in the Algorithms in Bioinformatics course 2018 given by [Swedish National Graduate School in Medical Bioinformatics](http://www.medbioinfo.se/).  \n",
    "In this notebook I will explain how phylogenetic trees can be constructed using the Maximum Likelihood method by implementing the necessary functions to do this in Python 3.\n",
    "\n",
    "\n",
    "1. Reading Multiple Sequence Alignment\n",
    "2. Generating a random Tree\n",
    "\n",
    "\n",
    "So lets start with setting up the working environment \n",
    "\n",
    "### Reading Multiple Sequence Alignment"
   ]
  }
 ],
 "metadata": {
  "kernelspec": {
   "display_name": "Python 3",
   "language": "python",
   "name": "python3"
  },
  "language_info": {
   "codemirror_mode": {
    "name": "ipython",
    "version": 3
   },
   "file_extension": ".py",
   "mimetype": "text/x-python",
   "name": "python",
   "nbconvert_exporter": "python",
   "pygments_lexer": "ipython3",
   "version": "3.6.1"
  }
 },
 "nbformat": 4,
 "nbformat_minor": 2
}
