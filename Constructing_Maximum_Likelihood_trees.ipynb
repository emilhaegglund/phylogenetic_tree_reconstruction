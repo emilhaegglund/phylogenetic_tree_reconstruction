{
 "cells": [
  {
   "cell_type": "markdown",
   "metadata": {},
   "source": [
    "# Constructing phylogenetic trees using Maximum Likelihood\n",
    "This Jupyter notebook is created as a project in the Algorithms in Bioinformatics course 2018 given by [Swedish National Graduate School in Medical Bioinformatics](http://www.medbioinfo.se/).\n",
    "All formulas and theory are from Chapter 6 of the Phylogenetic Handbook.\n",
    "\n",
    "Let's begin by importing the nessecary packages that we will using this tutorial and defining some plotting functions that we need later."
   ]
  },
  {
   "cell_type": "code",
   "execution_count": 1,
   "metadata": {},
   "outputs": [],
   "source": [
    "import numpy as np\n",
    "import math\n",
    "from scipy import optimize\n",
    "import dendropy\n",
    "import random \n",
    "import matplotlib.pyplot as plt\n",
    "import seaborn as sns\n",
    "from Bio import Phylo\n",
    "import networkx as nx\n",
    "from networkx.drawing.nx_agraph import graphviz_layout\n",
    "import pylab\n",
    "import io\n",
    "import warnings; warnings.simplefilter('ignore')\n",
    "import pandas as pd\n",
    "random.seed(1)"
   ]
  },
  {
   "cell_type": "code",
   "execution_count": 2,
   "metadata": {},
   "outputs": [],
   "source": [
    "def plot_unrooted_tree(tree):\n",
    "    handle = io.StringIO(str(tree))\n",
    "    tree_nwk = Phylo.read(handle, 'newick')\n",
    "    for idx, clade in enumerate(tree_nwk.find_clades()):  # name the inner nodes\n",
    "        if not clade.name:\n",
    "            clade.name = 'Inner' + str(idx)\n",
    "        \n",
    "    net = Phylo.to_networkx(tree_nwk)\n",
    "    pos = graphviz_layout(net)\n",
    "    e_color = 'black'\n",
    "    node_sizes = []\n",
    "    labels = {}\n",
    "    node_colors = []\n",
    "\n",
    "    for n in list(net.nodes(data=True)):\n",
    "        label = str(n[0])\n",
    "        if 'Inner' in label:\n",
    "            node_sizes.append(1)\n",
    "            labels[n[0]] = ''\n",
    "            node_colors.append(e_color)\n",
    "        else:\n",
    "            node_sizes.append(240)\n",
    "            labels[n[0]] = label\n",
    "            node_colors.append('r')\n",
    "    nx.draw(net, pos,edge_color=e_color,node_size = node_sizes, labels=labels, with_labels=True,node_color=node_colors) \n",
    "    \n",
    "    pylab.show()"
   ]
  },
  {
   "cell_type": "code",
   "execution_count": 3,
   "metadata": {},
   "outputs": [],
   "source": [
    "def plot_rooted_tree(tree, node_probs):\n",
    "    G = nx.DiGraph()\n",
    "    \n",
    "    for node in tree.preorder_node_iter():\n",
    "        attr_dict = {}\n",
    "        attr_dict['names'] = str(node.taxon)\n",
    "        G.add_node(node)\n",
    "        if node != tree.seed_node:\n",
    "            G.add_edge(node, node.parent_node)\n",
    "            \n",
    "    labels = {}\n",
    "    for n in list(G.nodes(data=True)):\n",
    "        labels[n[0]] = str(n[0].taxon).replace(\"'\", \"\")\n",
    "        \n",
    "        \n",
    "    pos = graphviz_layout(G, prog='dot')\n",
    "    nx.draw(G, pos, labels=labels, arrows=True)\n",
    "    for n in list(G.nodes(data=True)):\n",
    "        x, y = pos[n[0]]\n",
    "        if n[0] in node_probs.keys():\n",
    "            plt.text(x + 100,y - 20,s=node_probs[n[0]], bbox=dict(facecolor='red', alpha=0.2))\n",
    "    pylab.show()"
   ]
  },
  {
   "cell_type": "markdown",
   "metadata": {},
   "source": [
    "### Multiple Sequence Alignment\n",
    "The first step in creating a phylogenetic tree is to do a multiple sequence alignment (MSA) of the sequences that we want to include in our tree. This is done to find [homologous](https://en.wikipedia.org/wiki/Sequence_homology) posititions in the sequences, that is finding positions that have a shared ancestry. There are many  different tools for doing this, but the most common ones are [ClustalW](https://www.ebi.ac.uk/Tools/msa/clustalo/), [MUSCLE](https://www.ebi.ac.uk/Tools/msa/muscle/) and [MAFFT](https://www.ebi.ac.uk/Tools/msa/mafft/).\n",
    "An MSA can be represented in many different ways and there are many different file formats for storing MSAs. The most common way is that each row represent a sequnce in the alignment and each column represent a position in the alignment. If the alignment was done on the protein level each cell will contain either an ammino acid or a deletion sign, usually a -. In python we can represent an MSA as a dictionary where each key is the sequence identifier and each value is a list containing the element at each position in the alignment.\n"
   ]
  },
  {
   "cell_type": "code",
   "execution_count": 4,
   "metadata": {},
   "outputs": [],
   "source": [
    "def read_msa(path, length):\n",
    "    \"\"\"\n",
    "    Read a multiple sequence alignment (MSA) in fasta format\n",
    "    and returns a dictionary where each key is the sequence\n",
    "    identifier and each value is a list with the elements\n",
    "    of the alignmnent.\n",
    "    \n",
    "    Args:\n",
    "    path (str) - Path to the fasta file.\n",
    "    \n",
    "    Return:\n",
    "    msa (dict) - The MSA in a dictionary\n",
    "    \"\"\"\n",
    "    msa = {}\n",
    "    with open(path, 'r') as fasta_file:\n",
    "        lines = fasta_file.readlines()\n",
    "        for i in range(len(lines)):\n",
    "            if lines[i][0] == '>':\n",
    "                seq_id = lines[i].split(\" \")[0].strip()[1:]\n",
    "                msa[seq_id] = ''\n",
    "            else:\n",
    "                alignment = lines[i].strip()\n",
    "                msa[seq_id] += alignment\n",
    "    \n",
    "    if length != 'full':\n",
    "        for k in msa:\n",
    "            sub_aln = msa[k][0:length]\n",
    "            msa[k] = sub_aln\n",
    "    \n",
    "    return msa"
   ]
  },
  {
   "cell_type": "markdown",
   "metadata": {},
   "source": [
    "Now we can read the alignment and take a look at how the dictionary looks like"
   ]
  },
  {
   "cell_type": "code",
   "execution_count": 5,
   "metadata": {},
   "outputs": [
    {
     "name": "stdout",
     "output_type": "stream",
     "text": [
      "{'ENA|CAB56829|CAB56829.1': 'ATGGTGCTGTCTGCCGCCGA', 'ENA|CAA28435|CAA28435.1': 'ATGTCTCTGACCAGGACTGA', 'ENA|CAA24095|CAA24095.1': 'ATGGTGCTCTCTGGGGAAGA', 'ENA|CAA23748|CAA23748.1': 'ATGGTGCTGTCTCCTGCCGA', 'ENA|BAA20512|BAA20512.1': 'ATGAGTCTCTCTGATAAGGA'}\n"
     ]
    }
   ],
   "source": [
    "alignment = read_msa('./data/alpha_globin_full.fasta', 20)\n",
    "print(alignment)"
   ]
  },
  {
   "cell_type": "markdown",
   "metadata": {},
   "source": [
    "### Jukes and Cantor model\n",
    "We will use the simplest model for sequence evolution, the Jukes-Cantor model. This assume that the equilibrium rate for all sequences are the same, 0.25, and that the probability of changing from one nucleotide to another is the same for all nucleotides. It can be shown that the probability to observe no mutation at a site is\n",
    "\n",
    "$\\frac{1}{4} + \\frac{3}{4} * \\exp^{\\frac{-4}{3}d}$\n",
    "\n",
    "where d is the number of substitutions per site and we can also show that the probability to observe a mutation at a site is\n",
    "\n",
    "$\\frac{1}{4}(1-\\exp^{\\frac{-4}{3}d})$"
   ]
  },
  {
   "cell_type": "markdown",
   "metadata": {},
   "source": [
    "The two different functions are implemented below."
   ]
  },
  {
   "cell_type": "code",
   "execution_count": 6,
   "metadata": {},
   "outputs": [],
   "source": [
    "def prob_no_mutation_jc(distance):\n",
    "    \"\"\"\n",
    "    Calculate the probability to not observe a mutation for a given distance using Jukes-Cantor model\n",
    "    \n",
    "    Parameters:\n",
    "    distance - \n",
    "    \"\"\"\n",
    "    prob = (1/4) + (3*np.exp((-4/3) * distance))/4\n",
    "    return prob"
   ]
  },
  {
   "cell_type": "code",
   "execution_count": 7,
   "metadata": {},
   "outputs": [],
   "source": [
    "def prob_mutation_jc(distance):\n",
    "    \"\"\"\n",
    "    Calculate the probability to observe a mutation for a given distance using Jukes-Cantor model.\n",
    "    \n",
    "    Parameters:\n",
    "    distance - \n",
    "    \"\"\"\n",
    "    prob = (1/4) * (1 - np.exp((-4/3) * distance))\n",
    "    return prob"
   ]
  },
  {
   "cell_type": "markdown",
   "metadata": {},
   "source": [
    "### Trees\n",
    "Now we have read an alignment, next we need trees. The number of possible unrooted trees are growing very fast, we can calculate the number of unrooted trees using\n",
    "\n",
    "$\\frac{(2n-3)!}{2^{n-2}(n-2)!}$\n",
    "\n",
    "To get a feeling for how many trees there are we can write a function to calculate the number of trees given the number of taxa and this plot the relationship."
   ]
  },
  {
   "cell_type": "code",
   "execution_count": 8,
   "metadata": {},
   "outputs": [],
   "source": [
    "def number_of_trees(n_taxa):\n",
    "    \"\"\"\n",
    "    Calculate the number of possible unrooted trees\n",
    "    for a given number of taxa\n",
    "    \n",
    "    Paramenters:\n",
    "    n_taxa (int) - number of taxa\n",
    "    \n",
    "    Return\n",
    "    number of possible unrooted trees\n",
    "    \"\"\"\n",
    "    trees =  math.factorial(2*n_taxa - 3) / (2 ** (n_taxa - 2) * math.factorial(n_taxa-2))\n",
    "    return trees"
   ]
  },
  {
   "cell_type": "code",
   "execution_count": 9,
   "metadata": {},
   "outputs": [
    {
     "data": {
      "image/png": "[encoded data removed]",
      "text/plain": [
       "<Figure size 432x288 with 1 Axes>"
      ]
     },
     "metadata": {
      "needs_background": "light"
     },
     "output_type": "display_data"
    }
   ],
   "source": [
    "taxas = np.arange(2,30)\n",
    "f = np.vectorize(number_of_trees)\n",
    "fig, ax = plt.subplots()\n",
    "sns.lineplot(x=taxas, y=f(taxas))\n",
    "ax.set(yscale=\"log\")\n",
    "plt.show()"
   ]
  },
  {
   "cell_type": "markdown",
   "metadata": {},
   "source": [
    "For 9 taxa there are 2,027,025 trees, adding one taxa we instead have 34,459,425 different trees. In this tutorial we assume that the number of taxa in the alignment are fewer then 6-7, then it's possible to evaluate all different trees. For a larger number of taxa it's not possible to examine all trees and we need to use heuristic methods to find the best tree."
   ]
  },
  {
   "cell_type": "markdown",
   "metadata": {},
   "source": [
    "Next step is to create a function that will create the topology for all different trees from the list of taxa. To do this we can use the python package [dendropy](https://dendropy.org/) for handling the underlying tree data structure. This is great because then we will already have built-in functions for adding and removing nodes, get children and parents to nodes, and also we can write the tree to a newick string, this makes it possible for us to plot the tree.\n",
    "\n",
    "We can build all possible trees starting from a root that is conected to three taxa. From this we can then add one taxa to the tree by adding it to each branch in the original tree and save each new tree. For the next taxa, we take the tree new trees, and for each tree we add the new taxa to all edges on that three, and save each new tree. After this round we will have fifteen different trees. We continue this process untill all taxa have been added. In this function we set all branch length to the same distance, 0.5."
   ]
  },
  {
   "cell_type": "code",
   "execution_count": 10,
   "metadata": {},
   "outputs": [],
   "source": [
    "def create_all_trees(taxons):\n",
    "    \"\"\"\n",
    "    Generate all possible trees by first creating a tree with a root\n",
    "    and three terminal taxa. For each remaining taxa, each edge in the\n",
    "    tree is split and a new taxa is inserted as a terminal node.\n",
    "    \n",
    "    Parameters:\n",
    "    taxons = list of taxa\n",
    "    \n",
    "    Return\n",
    "    tree_list = list with all possible trees\n",
    "    \"\"\"\n",
    "    taxon_list = taxons\n",
    "    taxon_namespace = dendropy.TaxonNamespace(taxon_list)\n",
    "    init_tree = dendropy.Tree(taxon_namespace=taxon_namespace)\n",
    "    \n",
    "    ch1 = init_tree.seed_node.new_child(edge_length=0.1)\n",
    "    ch2 = init_tree.seed_node.new_child(edge_length=0.1)\n",
    "    ch3 = init_tree.seed_node.new_child(edge_length=0.1)\n",
    "\n",
    "    ch1.taxon = taxon_namespace.get_taxon(taxon_list[0])\n",
    "    ch2.taxon = taxon_namespace.get_taxon(taxon_list[1])\n",
    "    ch3.taxon = taxon_namespace.get_taxon(taxon_list[2])\n",
    "\n",
    "    tree_list = [init_tree.extract_tree()]\n",
    "    for taxa in taxon_list[3:]:\n",
    "        new_tree_list = []\n",
    "        for tree in tree_list:\n",
    "            node_list = list(tree.levelorder_node_iter())\n",
    "            for node in node_list:\n",
    "                children = list(node.child_nodes())\n",
    "                for i,child in enumerate(children):\n",
    "                    removed_node = node.remove_child(child)\n",
    "                    internal_node = node.new_child(edge_length=0.1)\n",
    "                    internal_node.add_child(removed_node)\n",
    "\n",
    "\n",
    "                    new_taxa = internal_node.new_child(edge_length=0.1)\n",
    "                    new_taxa.taxon = taxon_namespace.get_taxon(taxa)\n",
    "                    new_tree_list.append(tree.extract_tree())\n",
    "                    node.remove_child(internal_node)\n",
    "                    node.add_child(removed_node)\n",
    "        tree_list = new_tree_list\n",
    "\n",
    "    return tree_list"
   ]
  },
  {
   "cell_type": "markdown",
   "metadata": {},
   "source": [
    "This function can be tested by creating the three possible unrooted trees that can be obtained from three taxa"
   ]
  },
  {
   "cell_type": "code",
   "execution_count": 11,
   "metadata": {},
   "outputs": [
    {
     "data": {
      "image/png": "[encoded data removed]",
      "text/plain": [
       "<Figure size 432x288 with 1 Axes>"
      ]
     },
     "metadata": {},
     "output_type": "display_data"
    },
    {
     "data": {
      "image/png": "[encoded data removed]",
      "text/plain": [
       "<Figure size 432x288 with 1 Axes>"
      ]
     },
     "metadata": {},
     "output_type": "display_data"
    },
    {
     "data": {
      "image/png": "[encoded data removed]",
      "text/plain": [
       "<Figure size 432x288 with 1 Axes>"
      ]
     },
     "metadata": {},
     "output_type": "display_data"
    }
   ],
   "source": [
    "test_taxa = [\"A\", \"B\", \"C\", \"D\"]\n",
    "trees = create_all_trees(test_taxa)\n",
    "for tree in trees:\n",
    "    plot_unrooted_tree(tree)"
   ]
  },
  {
   "cell_type": "markdown",
   "metadata": {},
   "source": [
    "Now we have an alignment and we have a function to create all the trees and it's time to find the likelihood for the tree. We will start to assign the probabilities for observing a specific nucleotide at a specific site in each node. We start with the easiest nodes, the leaves. For these nodes we actually have the observations from the alignment. So for each leaf node we create a matrix with the size 4 x alignment length, We loop over each position and set the element in the matrix corresponding to the observed nucleotide to 1, the others are kept at 0."
   ]
  },
  {
   "cell_type": "code",
   "execution_count": 12,
   "metadata": {},
   "outputs": [],
   "source": [
    "def set_nucleotide_probs(node, node_probs, seq):\n",
    "    nucl_map = {'A':0, 'C':1, 'G':2, 'T':3}\n",
    "    nucl_prob = np.zeros((4, len(seq)))\n",
    "    for index, nucleotide in enumerate(seq):\n",
    "        if nucleotide == '-':\n",
    "            x = np.ones(4)\n",
    "            nucl_prob[:, index] = x\n",
    "            continue\n",
    "        row = nucl_map[nucleotide]\n",
    "        nucl_prob[row, index] = 1  # observed nucleotide\n",
    "    node_probs[node] = nucl_prob\n",
    "    \n",
    "    return node_probs"
   ]
  },
  {
   "cell_type": "markdown",
   "metadata": {},
   "source": [
    "We can test this function and see what it produces. We select a leaf node from the tree and create an empty dictionary to store the probabilites in."
   ]
  },
  {
   "cell_type": "code",
   "execution_count": 13,
   "metadata": {},
   "outputs": [
    {
     "name": "stdout",
     "output_type": "stream",
     "text": [
      "ACTTCAGT\n",
      "[[1. 0. 0. 0. 0. 1. 0. 0.]\n",
      " [0. 1. 0. 0. 1. 0. 0. 0.]\n",
      " [0. 0. 0. 0. 0. 0. 1. 0.]\n",
      " [0. 0. 1. 1. 0. 0. 0. 1.]]\n"
     ]
    }
   ],
   "source": [
    "test_alignment = 'ACTTCAGT'\n",
    "test_node = list(trees[0].leaf_nodes())[0]  # Pick first leaf\n",
    "        \n",
    "node_probs = {}  # store the probabilities for all nodes\n",
    "node_probs = set_nucleotide_probs(test_node, node_probs, test_alignment)\n",
    "\n",
    "print(test_alignment)\n",
    "print(node_probs[test_node])"
   ]
  },
  {
   "cell_type": "markdown",
   "metadata": {},
   "source": [
    "The output is the matrix, were the first row correspond to A, second to C, third to G and fourth to T and each column correspond to the position in the alignment."
   ]
  },
  {
   "cell_type": "markdown",
   "metadata": {},
   "source": [
    "Next we can create a wrapper function that does this for all leaf nodes in the tree."
   ]
  },
  {
   "cell_type": "code",
   "execution_count": 14,
   "metadata": {},
   "outputs": [],
   "source": [
    "def set_terminal_probs(tree, node_probs, alignment):\n",
    "    \"\"\"\n",
    "    Loop over terminal nodes and set fixed probabilities.\n",
    "    \n",
    "    Parameters:\n",
    "    tree - tree data structure\n",
    "    node_probs - dict to store probabilities\n",
    "    alignment - alignment dict\n",
    "    \"\"\"\n",
    "    for node in tree.levelorder_node_iter():\n",
    "        if node.is_leaf():\n",
    "            seq = alignment[str(node.taxon).replace(\"'\", \"\")]\n",
    "            node_probs = set_nucleotide_probs(node, node_probs, seq)\n",
    "            \n",
    "    return node_probs"
   ]
  },
  {
   "cell_type": "markdown",
   "metadata": {},
   "source": [
    "Now we can see how the probabilities are set for each leaf node in the tree."
   ]
  },
  {
   "cell_type": "code",
   "execution_count": 15,
   "metadata": {},
   "outputs": [
    {
     "name": "stdout",
     "output_type": "stream",
     "text": [
      "Node: 'A'\n",
      "Alignment: ACTGGA\n",
      "Pobability matrix\n",
      "[[1. 0. 0. 0. 0. 1.]\n",
      " [0. 1. 0. 0. 0. 0.]\n",
      " [0. 0. 0. 1. 1. 0.]\n",
      " [0. 0. 1. 0. 0. 0.]]\n",
      "\n",
      "\n",
      "Node: 'B'\n",
      "Alignment: ACTTGA\n",
      "Pobability matrix\n",
      "[[1. 0. 0. 0. 0. 1.]\n",
      " [0. 1. 0. 0. 0. 0.]\n",
      " [0. 0. 0. 0. 1. 0.]\n",
      " [0. 0. 1. 1. 0. 0.]]\n",
      "\n",
      "\n",
      "Node: 'C'\n",
      "Alignment: ATTGGC\n",
      "Pobability matrix\n",
      "[[1. 0. 0. 0. 0. 0.]\n",
      " [0. 0. 0. 0. 0. 1.]\n",
      " [0. 0. 0. 1. 1. 0.]\n",
      " [0. 1. 1. 0. 0. 0.]]\n",
      "\n",
      "\n",
      "Node: 'D'\n",
      "Alignment: ACTGGC\n",
      "Pobability matrix\n",
      "[[1. 0. 0. 0. 0. 0.]\n",
      " [0. 1. 0. 0. 0. 1.]\n",
      " [0. 0. 0. 1. 1. 0.]\n",
      " [0. 0. 1. 0. 0. 0.]]\n",
      "\n",
      "\n"
     ]
    }
   ],
   "source": [
    "test_alignment = {\"A\": \"ACTGGA\", \"B\": \"ACTTGA\", \"C\": \"ATTGGC\", \"D\":\"ACTGGC\"}\n",
    "node_probs = {}\n",
    "node_probs = set_terminal_probs(tree, node_probs, test_alignment)\n",
    "\n",
    "for node in node_probs.keys():\n",
    "    print('Node: ' + str(node.taxon))\n",
    "    print('Alignment: ' + test_alignment[str(node.taxon).replace(\"'\", \"\")])\n",
    "    print('Pobability matrix')\n",
    "    print(node_probs[node])\n",
    "    print('\\n')"
   ]
  },
  {
   "cell_type": "markdown",
   "metadata": {},
   "source": [
    "To calculate the likelihood for the tree we must find the likelihood in the most ancestral state of the tree. However, since we assume a time-reversible model, the probability going from state 1 to state 2 is the same as moving from state 2 to 1, any internal node can be choosen to be the root. When we first created the trees, the first node was automatically set to be the root for the tree structure, so we continoue to use that node as the most ancestral state.\n",
    "\n",
    "The likelihood for the tree is found by starting from the leaves and compute the joint probability to observe a nucleotide in the ancestral node. This process is continued until we reach the root of the tree. The next function calculate this joint probabilities for a node."
   ]
  },
  {
   "cell_type": "code",
   "execution_count": 16,
   "metadata": {},
   "outputs": [],
   "source": [
    "def calculate_nucleotide_probs(node, node_probs, alignment_length):\n",
    "    \"\"\"\n",
    "    Function to calculate likelihoods for all nucleotides at all sites in the alignment for the given node.\n",
    "    \n",
    "    Parameters:\n",
    "    node - node of tree, can't be a terminal node\n",
    "    node_probs - dict to store likelihoods\n",
    "    alignment_length - length of the alignment\n",
    "    \n",
    "    Return:\n",
    "    node_probs - updated node_probs dict\n",
    "    \"\"\"\n",
    "    # Determine if the given node is the root\n",
    "    if node.level() == 0:\n",
    "        root = True\n",
    "    else:\n",
    "        root = False\n",
    "    nucl_prob = np.zeros((4, alignment_length))  # Set up an empty matrix to store probabilities\n",
    "    child = list(node.child_nodes())\n",
    "    for index in range(alignment_length):  # Loop over the sites in the alignment\n",
    "        for s, nucl_node in enumerate(['A', 'C', 'G', 'T']):  # Loop over the possible nucl in the node\n",
    "            if root:  # only used for root node\n",
    "                center_prob = 0\n",
    "            right_prob = 0\n",
    "            left_prob = 0\n",
    "            for x, nucl_children in enumerate(['A', 'C', 'G', 'T']):  # Loop over the possible nucl in the child nodes\n",
    "                if nucl_node == nucl_children:\n",
    "                    # If no mutation, multiply the probability for no mutation to the probabiliyt for that nucl\n",
    "                    # in the child node.\n",
    "                    right_prob += prob_no_mutation_jc(child[0].edge_length) * node_probs[child[0]][x, index]\n",
    "                    left_prob += prob_no_mutation_jc(child[1].edge_length) * node_probs[child[1]][x, index]\n",
    "                    if root:\n",
    "                        center_prob += prob_no_mutation_jc(child[2].edge_length) * node_probs[child[2]][x, index]\n",
    "                else:\n",
    "                    # Same as above, but this time, we observe a mutation.\n",
    "                    right_prob += prob_mutation_jc(child[0].edge_length) * node_probs[child[0]][x, index]\n",
    "                    left_prob += prob_mutation_jc(child[1].edge_length) * node_probs[child[1]][x, index]\n",
    "                    if root:\n",
    "                        center_prob += prob_mutation_jc(child[2].edge_length) * node_probs[child[2]][x, index]\n",
    "            # Finally, calculate the probability to observe nucl s in the give node.\n",
    "            if root:                 \n",
    "                nucl_prob[s, index] = right_prob * left_prob * center_prob\n",
    "            else:\n",
    "                nucl_prob[s, index] = right_prob * left_prob\n",
    "    \n",
    "    # Store all calculated probabilities\n",
    "    node_probs[node] = nucl_prob\n",
    "\n",
    "    return node_probs"
   ]
  },
  {
   "cell_type": "markdown",
   "metadata": {},
   "source": [
    "We can now calculate the likelihood for each node by recursively traversing over the tree from leaves to root, this is illustrated by using a simple alignment fo four sequences with one position."
   ]
  },
  {
   "cell_type": "code",
   "execution_count": 17,
   "metadata": {},
   "outputs": [
    {
     "name": "stdout",
     "output_type": "stream",
     "text": [
      "<Node object at 0x1a274eb908: 'None' (None)>\n"
     ]
    },
    {
     "data": {
      "image/png": "[encoded data removed]",
      "text/plain": [
       "<Figure size 432x288 with 1 Axes>"
      ]
     },
     "metadata": {},
     "output_type": "display_data"
    },
    {
     "name": "stdout",
     "output_type": "stream",
     "text": [
      "<Node object at 0x1a274ebf60: 'None' (None)>\n"
     ]
    },
    {
     "data": {
      "image/png": "[encoded data removed]",
      "text/plain": [
       "<Figure size 432x288 with 1 Axes>"
      ]
     },
     "metadata": {},
     "output_type": "display_data"
    }
   ],
   "source": [
    "test_alignment = {\"A\": \"CGG\", \"B\": \"CAG\", \"C\": \"CGA\", \"D\":\"GGA\"}\n",
    "node_probs = {}\n",
    "node_probs = set_terminal_probs(trees[0], node_probs, test_alignment)\n",
    "for node in trees[0].postorder_node_iter():\n",
    "    if not node.is_leaf():\n",
    "        print(node)\n",
    "        node_probs = calculate_nucleotide_probs(node, node_probs, 3)\n",
    "        plot_rooted_tree(trees[0], node_probs)"
   ]
  },
  {
   "cell_type": "markdown",
   "metadata": {},
   "source": [
    "We also create a wrapper function for doing this on every node on the tree, similar to the code block above."
   ]
  },
  {
   "cell_type": "code",
   "execution_count": 18,
   "metadata": {},
   "outputs": [],
   "source": [
    "def set_inner_probs(tree, node_probs, alignment_length):\n",
    "    for node in tree.postorder_node_iter():\n",
    "        if not node.is_leaf():\n",
    "            node_probs = calculate_nucleotide_probs(node, node_probs, alignment_length)\n",
    "            \n",
    "    return node_probs"
   ]
  },
  {
   "cell_type": "markdown",
   "metadata": {},
   "source": [
    "To find the likelihood for the entire tree we sum over columns in the root and mutliply by the . Next, to find the likelihood for the tree we have to multiply the sum of likelihoods for each site. However, this means that we will multiply many small numbers and this can lead to something called underflow, where the computer is no longer able to represent the number in the memory. Instead of doing the multiplication we switch to log-likelihoods and sum the site likelihoods."
   ]
  },
  {
   "cell_type": "code",
   "execution_count": 19,
   "metadata": {},
   "outputs": [
    {
     "name": "stdout",
     "output_type": "stream",
     "text": [
      "[0.00546691 0.00546691 0.00037722]\n",
      "-18.30076301976183\n"
     ]
    }
   ],
   "source": [
    "column_log_likelihood = 0.25 * node_probs[trees[0].seed_node].sum(axis=0)\n",
    "tree_log_likelihood = np.sum(np.log(column_log_likelihood))\n",
    "print(column_log_likelihood)\n",
    "print(tree_log_likelihood)"
   ]
  },
  {
   "cell_type": "markdown",
   "metadata": {},
   "source": [
    "One parameter that we need to pass to these functions is the length of the alignment. The function below is a quick way to check that all sequences in the alignment are of the same length and returning the length of the alignment."
   ]
  },
  {
   "cell_type": "code",
   "execution_count": 20,
   "metadata": {},
   "outputs": [],
   "source": [
    "def get_alignment_length(alignment):\n",
    "    seq_lengths = [len(seq) for taxa, seq in alignment.items()]\n",
    "    if len(set(seq_lengths)) == 1:\n",
    "        return seq_lengths[0]\n",
    "    else:\n",
    "        print('All sequence in the alignment is not of equal length')\n",
    "        return False"
   ]
  },
  {
   "cell_type": "markdown",
   "metadata": {},
   "source": [
    "We can test the function by creating a test alignment with two sequences with alignments of length 5."
   ]
  },
  {
   "cell_type": "code",
   "execution_count": 21,
   "metadata": {},
   "outputs": [
    {
     "name": "stdout",
     "output_type": "stream",
     "text": [
      "5\n"
     ]
    }
   ],
   "source": [
    "test_alignment = {\"A\":\"ACTTG\", \"B\":\"ACTTC\"} \n",
    "print(get_alignment_length(test_alignment))"
   ]
  },
  {
   "cell_type": "markdown",
   "metadata": {},
   "source": [
    "### Branch length optimization\n",
    "Now we have come to the final step before we can combine all steps together. This is the optimization of the branch lengths. For this we will use the Brent's method included in the scipy-package. We define a wrapper function that updates the branch length and update the log likelihood of the tree and this is the function we want to maximize.\n",
    "When we have found the branch length that maximize we return the updated likelihoods."
   ]
  },
  {
   "cell_type": "code",
   "execution_count": 22,
   "metadata": {},
   "outputs": [],
   "source": [
    "def optimize_length(node, node_probs, aln_length, tree):\n",
    "    optimize.fminbound(wrapper, 0, 2, xtol=0.01, args=(node_probs, aln_length, tree))\n",
    "    node_probs  = set_inner_probs(tree, node_probs, aln_length)\n",
    "    return node_probs"
   ]
  },
  {
   "cell_type": "code",
   "execution_count": 23,
   "metadata": {},
   "outputs": [],
   "source": [
    "def wrapper(node_length, node_probs, aln_length, tree):\n",
    "    node.edge_length = node_length\n",
    "    tmp_node_probs = set_inner_probs(tree, node_probs, aln_length)\n",
    "    tree_likelihood = -1 *np.sum(np.log(0.25 * tmp_node_probs[tree.seed_node].sum(axis=0)))\n",
    "    \n",
    "    return tree_likelihood"
   ]
  },
  {
   "cell_type": "markdown",
   "metadata": {},
   "source": [
    "And here is the function that loops over the nodes that we want to update the branch length for. Changing the branch length of one node can affect what's the best branch length for a sibling node, so after we have update one node, we rerun the optimization on all previous nodes we visit."
   ]
  },
  {
   "cell_type": "code",
   "execution_count": 24,
   "metadata": {},
   "outputs": [],
   "source": [
    "def branch_optimization(nodes, node_probs, aln_length, tree):\n",
    "    for j, node in enumerate(nodes):\n",
    "        node_probs = optimize_length(node, node_probs, aln_length, tree)\n",
    "        for prev_node in nodes[:j-1]:\n",
    "            node_probs = optimize_length(node, node_probs, aln_length, tree)\n",
    "    \n",
    "    return node_probs"
   ]
  },
  {
   "cell_type": "markdown",
   "metadata": {},
   "source": [
    "### Combine all the steps\n",
    "Now we can combine all the steps together. We first read the alignment and check that all sequences are of equal length. We pass the list of the taxa to the function that generate all possible trees. For each tree, we assign the likelihoods, first to the leaf-nodes and then to the internal nodes and calculate the log-likelihood for the tree. After this we do one round of branch lenght optimization and calculate a new log-likelihood. Following this we continue to do branch length optimization until we reach convergence or the maximum number of optimization rounds we want to run.\n",
    "\n",
    "We will run this step on a nucleotide alignment of the alpha-globin gene from 5 species. This step is very slow, by changing the integer in the read_msa function below we can determine how many sites from the alignment we want to use, starting from 1:st to n:th site. By using the keyword 'full', we can use the entire alignment."
   ]
  },
  {
   "cell_type": "code",
   "execution_count": 37,
   "metadata": {},
   "outputs": [
    {
     "name": "stdout",
     "output_type": "stream",
     "text": [
      "{'ENA|CAB56829|CAB56829.1': 'ATGGTGCTGTCTGCCGCCGA', 'ENA|CAA28435|CAA28435.1': 'ATGTCTCTGACCAGGACTGA', 'ENA|CAA24095|CAA24095.1': 'ATGGTGCTCTCTGGGGAAGA', 'ENA|CAA23748|CAA23748.1': 'ATGGTGCTGTCTCCTGCCGA', 'ENA|BAA20512|BAA20512.1': 'ATGAGTCTCTCTGATAAGGA'}\n",
      "Tree 1\n",
      "Opt-rounds: 3\n",
      "Non-optimal:-107.73860286188177\n",
      "Optimal:-97.91834039611079\n",
      "Tree 2\n",
      "Opt-rounds: 4\n",
      "Non-optimal:-109.57471239163898\n",
      "Optimal:-98.07064695693167\n",
      "Tree 3\n",
      "Opt-rounds: 4\n",
      "Non-optimal:-111.98915408456189\n",
      "Optimal:-98.7313622905567\n",
      "Tree 4\n",
      "Opt-rounds: 4\n",
      "Non-optimal:-116.49259813333431\n",
      "Optimal:-100.76810811331339\n",
      "Tree 5\n",
      "Opt-rounds: 4\n",
      "Non-optimal:-115.62392437825095\n",
      "Optimal:-100.60910443426108\n",
      "Tree 6\n",
      "Opt-rounds: 21\n",
      "Non-optimal:-113.61904255634057\n",
      "Optimal:-98.64423932573054\n",
      "Tree 7\n",
      "Opt-rounds: 9\n",
      "Non-optimal:-119.20798972798879\n",
      "Optimal:-101.36742991747259\n",
      "Tree 8\n",
      "Opt-rounds: 21\n",
      "Non-optimal:-118.29787031853016\n",
      "Optimal:-101.26892481915624\n",
      "Tree 9\n",
      "Opt-rounds: 3\n",
      "Non-optimal:-111.91155661304522\n",
      "Optimal:-100.23901135666343\n",
      "Tree 10\n",
      "Opt-rounds: 4\n",
      "Non-optimal:-117.88831044751761\n",
      "Optimal:-101.20838828333427\n",
      "Tree 11\n",
      "Opt-rounds: 3\n",
      "Non-optimal:-119.98819787330889\n",
      "Optimal:-101.43727952824233\n",
      "Tree 12\n",
      "Opt-rounds: 6\n",
      "Non-optimal:-112.56314117190347\n",
      "Optimal:-100.38174146657498\n",
      "Tree 13\n",
      "Opt-rounds: 2\n",
      "Non-optimal:-119.35377170296725\n",
      "Optimal:-101.38046880133045\n",
      "Tree 14\n",
      "Opt-rounds: 5\n",
      "Non-optimal:-114.02335938191942\n",
      "Optimal:-98.70683048864737\n",
      "Tree 15\n",
      "Opt-rounds: 4\n",
      "Non-optimal:-118.16400368663462\n",
      "Optimal:-101.2253109775247\n"
     ]
    }
   ],
   "source": [
    "# Warning, very slow step. We can make it faster by changing the 'full' to\n",
    "# an integer n to include only first n bases of the alignment\n",
    "alignment = read_msa('./data/alpha_globin_full.fasta', 20)\n",
    "print(alignment)\n",
    "aln_length = get_alignment_length(alignment)\n",
    "taxon = [taxa for taxa in alignment.keys()]\n",
    "\n",
    "# Create all trees\n",
    "tree_list = create_all_trees(taxons=taxon)\n",
    "\n",
    "# Optimize branch lengths\n",
    "epsilon = 0.001  \n",
    "max_opt_iterations = 20 \n",
    "starting_tree_scores = []\n",
    "best_trees = []  # store tree with optimized branch lengths\n",
    "best_tree_scores = []  # store the score for tree with optimized branch lengths\n",
    "\n",
    "\n",
    "for i in range(len(tree_list)):\n",
    "    \n",
    "    tree = tree_list[i].extract_tree()\n",
    "    \n",
    "    # First set the observed likelihoods\n",
    "    node_probs = {}\n",
    "    node_probs = set_terminal_probs(tree, node_probs, alignment)\n",
    "    \n",
    "    # Set likelihoods in the internal nodes\n",
    "    node_probs = set_inner_probs(tree, node_probs, aln_length)\n",
    "    \n",
    "    # Calulate log-likelihood for tree without branch length optimizations\n",
    "    log_likelihoods = np.sum(np.log(0.25 * node_probs[tree.seed_node].sum(axis=0)))\n",
    "    starting_tree_scores.append(log_likelihoods)\n",
    "    prev_likelihoods = log_likelihoods\n",
    "    \n",
    "    # Extract nodes for branch optimizatoins,\n",
    "    # we don't want optimize the root since it doesn't have any parent node.\n",
    "    nodes = list(tree.postorder_node_iter())\n",
    "    nodes = [n for n in nodes if n != tree.seed_node]\n",
    "    \n",
    "    # First round of branch optimization\n",
    "    for j, node in enumerate(nodes):\n",
    "        node_probs = optimize_length(node, node_probs, aln_length, tree)\n",
    "        for prev_node in nodes[:j-1]:\n",
    "            node_probs = optimize_length(node, node_probs, aln_length, tree)\n",
    "    best_likelihoods = np.sum(np.log(0.25 * node_probs[tree.seed_node].sum(axis=0)))\n",
    "    \n",
    "    opt_counter = 0  # count optimization rounds\n",
    "    best_tree = None\n",
    "    \n",
    "    # Continue branch optimization until likelihood converge or max optimization rounds are reached\n",
    "    while opt_counter < max_opt_iterations:\n",
    "        \n",
    "        # Set new best tree\n",
    "        if prev_likelihoods > best_likelihoods:  \n",
    "            best_likelihoods = prev_likelihoods\n",
    "            best_tree = tree.extract_tree()\n",
    "            \n",
    "        # Optimize branch length\n",
    "        for j, node in enumerate(nodes):\n",
    "            node_probs = optimize_length(node, node_probs, aln_length, tree)\n",
    "            for prev_node in nodes[:j-1]:\n",
    "                node_probs = optimize_length(node, node_probs, aln_length, tree)\n",
    "        \n",
    "        # log-likelihoods for new branch lengths\n",
    "        prev_likelihoods = np.sum(np.log(0.25 * node_probs[tree.seed_node].sum(axis=0)))\n",
    "        \n",
    "        # Check for convergence\n",
    "        if abs(prev_likelihoods - best_likelihoods) < epsilon:\n",
    "            #if prev_likelihoods > best_likelihoods:  \n",
    "            #    best_likelihoods = prev_likelihoods\n",
    "            #    best_tree = tree.extract_tree()\n",
    "            break\n",
    "        opt_counter += 1\n",
    "    \n",
    "    print('Tree ' + str(i + 1))\n",
    "    print('Opt-rounds: ' + str(opt_counter + 1))\n",
    "    print('Non-optimal:' + str(log_likelihoods))\n",
    "    print('Optimal:' + str(best_likelihoods))\n",
    "        \n",
    "    best_trees.append(best_tree)\n",
    "    best_tree_scores.append(best_likelihoods)\n",
    "    "
   ]
  },
  {
   "cell_type": "markdown",
   "metadata": {},
   "source": [
    "The best tree we found can then be extracted"
   ]
  },
  {
   "cell_type": "code",
   "execution_count": 38,
   "metadata": {},
   "outputs": [
    {
     "name": "stdout",
     "output_type": "stream",
     "text": [
      "Log-likelihood for best tree: -97.91834039611079\n",
      "Best tree\n",
      "(ENA|CAA24095|CAA24095.1:0.006211240030283723,(ENA|CAB56829|CAB56829.1:0.006211240030283723,ENA|CAA23748|CAA23748.1:0.10739377859649311):0.2955401650680553,(ENA|CAA28435|CAA28435.1:0.6106261721493405,ENA|BAA20512|BAA20512.1:0.24434921463046863):0.232198588399082)\n"
     ]
    }
   ],
   "source": [
    "(m,i) = max((v,i) for i,v in enumerate(best_tree_scores))\n",
    "print(\"Log-likelihood for best tree: \" + str(m))\n",
    "print(\"Best tree\")\n",
    "print(best_trees[i])"
   ]
  },
  {
   "cell_type": "markdown",
   "metadata": {},
   "source": [
    "### Comparing our results to RAxML-ng\n",
    "How good are these results? We can compare our trees to what a state-of-art software like RAxML would produce. To run the following code RAxML must be installed on your system, you can downloaded the software from [here](https://github.com/amkozlov/raxml-ng/releases)."
   ]
  },
  {
   "cell_type": "markdown",
   "metadata": {},
   "source": [
    "Start by writing the alignment we used and the starting trees and the final trees we obtained to files. "
   ]
  },
  {
   "cell_type": "code",
   "execution_count": 39,
   "metadata": {},
   "outputs": [],
   "source": [
    "def write_trees(output, trees):\n",
    "    f = open(output, 'w')\n",
    "    for tree in trees:\n",
    "        f.write(str(tree) + ';\\n')\n",
    "    f.close()"
   ]
  },
  {
   "cell_type": "code",
   "execution_count": 40,
   "metadata": {},
   "outputs": [],
   "source": [
    "def write_msa(path, alignment):\n",
    "    with open(path, 'w') as f:\n",
    "        for k in alignment.keys():\n",
    "            f.write('>' + k + '\\n')\n",
    "            f.write(alignment[k] + '\\n')"
   ]
  },
  {
   "cell_type": "code",
   "execution_count": 41,
   "metadata": {},
   "outputs": [],
   "source": [
    "output_msa = './data/used_alignment.msa'\n",
    "write_msa(output_msa, alignment)\n",
    "\n",
    "best_trees_output = './data/best_trees.tree'\n",
    "write_trees(best_trees_output, best_trees)\n",
    "\n",
    "starting_trees_output = './data/starting_trees.tree'\n",
    "write_trees(starting_trees_output, tree_list)"
   ]
  },
  {
   "cell_type": "markdown",
   "metadata": {},
   "source": [
    "We can then use the evaluate function in RAxML-ng to see what log-likelihood values they calculate for the trees and how well RAxML can optimize the branch lengths of the starting trees. To get the results we grep the lines from the log-file."
   ]
  },
  {
   "cell_type": "code",
   "execution_count": 42,
   "metadata": {},
   "outputs": [
    {
     "name": "stdout",
     "output_type": "stream",
     "text": [
      ">ENA|CAB56829|CAB56829.1\n",
      "ATGGTGCTGTCTGCCGCCGA\n",
      ">ENA|CAA28435|CAA28435.1\n",
      "ATGTCTCTGACCAGGACTGA\n",
      ">ENA|CAA24095|CAA24095.1\n",
      "ATGGTGCTCTCTGGGGAAGA\n",
      ">ENA|CAA23748|CAA23748.1\n",
      "ATGGTGCTGTCTCCTGCCGA\n",
      ">ENA|BAA20512|BAA20512.1\n",
      "ATGAGTCTCTCTGATAAGGA\n",
      "\n",
      "RAxML-NG v. 0.8.1 BETA released on 05.03.2019 by The Exelixis Lab.\n",
      "Authors: Alexey Kozlov, Alexandros Stamatakis, Diego Darriba, Tomas Flouri, Benoit Morel.\n",
      "Latest version: https://github.com/amkozlov/raxml-ng\n",
      "Questions/problems/suggestions? Please visit: https://groups.google.com/forum/#!forum/raxml\n",
      "\n",
      "WARNING: This is a BETA release, please use at your own risk!\n",
      "\n",
      "RAxML-NG was called at 13-Mar-2019 16:53:28 as follows:\n",
      "\n",
      "raxml-ng --evaluate --msa ./data/used_alignment.msa --model JC --prefix ./data/compare --threads 2 --tree ./data/starting_trees.tree --redo\n",
      "\n",
      "Analysis options:\n",
      "  run mode: Evaluate tree likelihood\n",
      "  start tree(s): user\n",
      "  random seed: 1552492408\n",
      "  tip-inner: OFF\n",
      "  pattern compression: ON\n",
      "  per-rate scalers: OFF\n",
      "  site repeats: ON\n",
      "  branch lengths: proportional (ML estimate, algorithm: NR-FAST)\n",
      "  SIMD kernels: AVX2\n",
      "  parallelization: PTHREADS (2 threads), thread pinning: OFF\n",
      "\n",
      "WARNING: Running in REDO mode: existing checkpoints are ignored, and all result files will be overwritten!\n",
      "\n",
      "[00:00:00] Reading alignment from file: ./data/used_alignment.msa\n",
      "[00:00:00] Loaded alignment with 5 taxa and 20 sites\n",
      "\n",
      "Alignment comprises 1 partitions and 16 patterns\n",
      "\n",
      "Partition 0: noname\n",
      "Model: JC\n",
      "Alignment sites / patterns: 20 / 16\n",
      "Gaps: 0.00 %\n",
      "Invariant sites: 40.00 %\n",
      "\n",
      "\n",
      "NOTE: Binary MSA file created: ./data/compare.raxml.rba\n",
      "\n",
      "\n",
      "WARNING: You might be using too many threads (2) for your alignment with 16 unique patterns.\n",
      "NOTE:    For the optimal throughput, please consider using fewer threads \n",
      "NOTE:    and parallelize across starting trees/bootstrap replicates.\n",
      "NOTE:    As a general rule-of-thumb, please assign at least 200-1000 alignment patterns per thread.\n",
      "\n",
      "[00:00:00] Loading user starting tree(s) from: ./data/starting_trees.tree\n",
      "[00:00:00] Data distribution: max. partitions/sites/weight per thread: 1 / 8 / 32\n",
      "\n",
      "Evaluating 15 trees\n",
      "\n",
      "[00:00:00] Tree #1, initial LogLikelihood: -107.738603\n",
      "\n",
      "[00:00:00 -107.738603] Initial branch length optimization\n",
      "[00:00:00 -98.079685] Model parameter optimization (eps = 0.100000)\n",
      "\n",
      "[00:00:00] Tree #1, final logLikelihood: -97.844371\n",
      "\n",
      "[00:00:00] Tree #2, initial LogLikelihood: -109.574712\n",
      "\n",
      "[00:00:00 -109.574712] Initial branch length optimization\n",
      "[00:00:00 -99.588953] Model parameter optimization (eps = 0.100000)\n",
      "\n",
      "[00:00:00] Tree #2, final logLikelihood: -98.005915\n",
      "\n",
      "[00:00:00] Tree #3, initial LogLikelihood: -111.989154\n",
      "\n",
      "[00:00:00 -111.989154] Initial branch length optimization\n",
      "[00:00:00 -98.857680] Model parameter optimization (eps = 0.100000)\n",
      "\n",
      "[00:00:00] Tree #3, final logLikelihood: -98.652834\n",
      "\n",
      "[00:00:00] Tree #4, initial LogLikelihood: -116.492598\n",
      "\n",
      "[00:00:00 -116.492598] Initial branch length optimization\n",
      "[00:00:00 -100.694267] Model parameter optimization (eps = 0.100000)\n",
      "\n",
      "[00:00:00] Tree #4, final logLikelihood: -100.691335\n",
      "\n",
      "[00:00:00] Tree #5, initial LogLikelihood: -115.623924\n",
      "\n",
      "[00:00:00 -115.623924] Initial branch length optimization\n",
      "[00:00:00 -100.612653] Model parameter optimization (eps = 0.100000)\n",
      "\n",
      "[00:00:00] Tree #5, final logLikelihood: -100.602988\n",
      "\n",
      "[00:00:00] Tree #6, initial LogLikelihood: -113.619043\n",
      "\n",
      "[00:00:00 -113.619043] Initial branch length optimization\n",
      "[00:00:00 -98.871915] Model parameter optimization (eps = 0.100000)\n",
      "\n",
      "[00:00:00] Tree #6, final logLikelihood: -98.618106\n",
      "\n",
      "[00:00:00] Tree #7, initial LogLikelihood: -119.207990\n",
      "\n",
      "[00:00:00 -119.207990] Initial branch length optimization\n",
      "[00:00:00 -101.296366] Model parameter optimization (eps = 0.100000)\n",
      "\n",
      "[00:00:00] Tree #7, final logLikelihood: -101.293659\n",
      "\n",
      "[00:00:00] Tree #8, initial LogLikelihood: -118.297870\n",
      "\n",
      "[00:00:00 -118.297870] Initial branch length optimization\n",
      "[00:00:00 -101.353721] Model parameter optimization (eps = 0.100000)\n",
      "\n",
      "[00:00:00] Tree #8, final logLikelihood: -101.269260\n",
      "\n",
      "[00:00:00] Tree #9, initial LogLikelihood: -111.911557\n",
      "\n",
      "[00:00:00 -111.911557] Initial branch length optimization\n",
      "[00:00:00 -100.243203] Model parameter optimization (eps = 0.100000)\n",
      "\n",
      "[00:00:00] Tree #9, final logLikelihood: -100.232380\n",
      "\n",
      "[00:00:00] Tree #10, initial LogLikelihood: -117.888310\n",
      "\n",
      "[00:00:00 -117.888310] Initial branch length optimization\n",
      "[00:00:00 -101.248590] Model parameter optimization (eps = 0.100000)\n",
      "\n",
      "[00:00:00] Tree #10, final logLikelihood: -101.233636\n",
      "\n",
      "[00:00:00] Tree #11, initial LogLikelihood: -119.988198\n",
      "\n",
      "[00:00:00 -119.988198] Initial branch length optimization\n",
      "[00:00:00 -101.290820] Model parameter optimization (eps = 0.100000)\n",
      "\n",
      "[00:00:00] Tree #11, final logLikelihood: -101.289328\n",
      "\n",
      "[00:00:00] Tree #12, initial LogLikelihood: -112.563141\n",
      "\n",
      "[00:00:00 -112.563141] Initial branch length optimization\n",
      "[00:00:00 -100.313623] Model parameter optimization (eps = 0.100000)\n",
      "\n",
      "[00:00:00] Tree #12, final logLikelihood: -100.307594\n",
      "\n",
      "[00:00:00] Tree #13, initial LogLikelihood: -119.353772\n",
      "\n",
      "[00:00:00 -119.353772] Initial branch length optimization\n",
      "[00:00:00 -101.292789] Model parameter optimization (eps = 0.100000)\n",
      "\n",
      "[00:00:00] Tree #13, final logLikelihood: -101.289390\n",
      "\n",
      "[00:00:00] Tree #14, initial LogLikelihood: -114.023359\n",
      "\n",
      "[00:00:00 -114.023359] Initial branch length optimization\n",
      "[00:00:00 -98.858650] Model parameter optimization (eps = 0.100000)\n",
      "\n",
      "[00:00:00] Tree #14, final logLikelihood: -98.653968\n",
      "\n",
      "[00:00:00] Tree #15, initial LogLikelihood: -118.164004\n",
      "\n",
      "[00:00:00 -118.164004] Initial branch length optimization\n",
      "[00:00:00 -101.211388] Model parameter optimization (eps = 0.100000)\n",
      "\n",
      "[00:00:00] Tree #15, final logLikelihood: -101.201850\n",
      "\n",
      "\n",
      "Optimized model parameters:\n",
      "\n",
      "   Partition 0: noname\n",
      "   Rate heterogeneity: NONE\n",
      "   Base frequencies (model): 0.250000 0.250000 0.250000 0.250000 \n",
      "   Substitution rates (model): 1.000000 1.000000 1.000000 1.000000 1.000000 1.000000 \n",
      "\n",
      "Final LogLikelihood: -97.844371\n",
      "\n",
      "AIC score: 209.688743 / AICc score: 219.022076 / BIC score: 216.658869\n",
      "Free parameters (model + branch lengths): 7\n",
      "\n",
      "Best ML tree saved to: /Users/emiha442/Documents/Work/Courses/algorithms_in_bioinformatics/phylogenetic_tree_reconstruction/data/compare.raxml.bestTree\n",
      "All ML trees saved to: /Users/emiha442/Documents/Work/Courses/algorithms_in_bioinformatics/phylogenetic_tree_reconstruction/data/compare.raxml.mlTrees\n",
      "Optimized model saved to: /Users/emiha442/Documents/Work/Courses/algorithms_in_bioinformatics/phylogenetic_tree_reconstruction/data/compare.raxml.bestModel\n",
      "\n",
      "Execution log saved to: /Users/emiha442/Documents/Work/Courses/algorithms_in_bioinformatics/phylogenetic_tree_reconstruction/data/compare.raxml.log\n",
      "\n",
      "Analysis started: 13-Mar-2019 16:53:28 / finished: 13-Mar-2019 16:53:28\n",
      "\n",
      "Elapsed time: 0.056 seconds\n",
      "\n"
     ]
    }
   ],
   "source": [
    "%%bash\n",
    "cat ./data/used_alignment.msa\n",
    "raxml-ng --evaluate --msa ./data/used_alignment.msa --model JC --prefix ./data/compare --threads 2  --tree ./data/starting_trees.tree --redo\n",
    "grep 'initial' ./data/compare.raxml.log > ./data/initial_log_likelihoods.txt\n",
    "grep 'final' ./data/compare.raxml.log > ./data/final_log_likelihoods.txt"
   ]
  },
  {
   "cell_type": "markdown",
   "metadata": {},
   "source": [
    "Here is a small function to read the files with the log-likelihood values."
   ]
  },
  {
   "cell_type": "code",
   "execution_count": 43,
   "metadata": {},
   "outputs": [],
   "source": [
    "def read_logL_files(path):\n",
    "    log_likelihoods = []\n",
    "    with open(path, 'r') as f:\n",
    "        for line in f:\n",
    "            line = line.strip()\n",
    "            line = line.split(\" \")\n",
    "            logL = float(line[-1])\n",
    "            log_likelihoods.append(logL)\n",
    "\n",
    "    return log_likelihoods"
   ]
  },
  {
   "cell_type": "markdown",
   "metadata": {},
   "source": [
    "Now we read the log-likelihoods for the initial trees and the final trees obtained from RAxML and plot it against the result we obtain with the functions implemented in our notebook."
   ]
  },
  {
   "cell_type": "code",
   "execution_count": 44,
   "metadata": {},
   "outputs": [
    {
     "data": {
      "image/png": "[encoded data removed]",
      "text/plain": [
       "<Figure size 432x288 with 1 Axes>"
      ]
     },
     "metadata": {
      "needs_background": "light"
     },
     "output_type": "display_data"
    }
   ],
   "source": [
    "raxml_final_logL = read_logL_files('./data/final_log_likelihoods.txt')\n",
    "raxml_initial_logl = read_logL_files('./data/initial_log_likelihoods.txt')\n",
    "raw_data = {'RAxML_init':raxml_initial_logl, 'RAxML_final':raxml_final_logL, 'init':starting_tree_scores, 'final':best_tree_scores}\n",
    "for k in raw_data.keys():\n",
    "    posLog = [-i for i in raw_data[k]]\n",
    "    raw_data[k] = posLog\n",
    "raw_df = pd.DataFrame.from_dict(raw_data)\n",
    "raw_df['Tree'] = raw_df.index + 1\n",
    "raw_df['final_diff'] = raw_df['RAxML_final'] - raw_df['final']\n",
    "raw_df['init_diff'] = raw_df['RAxML_init'] - raw_df['init']\n",
    "plotting_data = pd.melt(raw_df[['Tree', 'final_diff', 'init_diff']], id_vars=['Tree'])\n",
    "plotting_data\n",
    "sns.barplot(x='Tree', y='value', hue='variable', data=plotting_data)\n",
    "plt.show()\n"
   ]
  },
  {
   "cell_type": "markdown",
   "metadata": {},
   "source": [
    "The plot shows the differences in the log-likelihoods between our script and RAxML. A positive value indicates that our tree is better.There are no differences in the score for the initial trees for our implementation compared to RAxML-ng, this verify that we actually doing the correct calculations. For the best trees we see small differences, in most of the cases RAxML find a slightly better tree and this is most likely due to RAxML have a much more advanced method to optimize the branch lengths"
   ]
  },
  {
   "cell_type": "code",
   "execution_count": 45,
   "metadata": {},
   "outputs": [
    {
     "data": {
      "text/html": [
       "<div>\n",
       "<style scoped>\n",
       "    .dataframe tbody tr th:only-of-type {\n",
       "        vertical-align: middle;\n",
       "    }\n",
       "\n",
       "    .dataframe tbody tr th {\n",
       "        vertical-align: top;\n",
       "    }\n",
       "\n",
       "    .dataframe thead th {\n",
       "        text-align: right;\n",
       "    }\n",
       "</style>\n",
       "<table border=\"1\" class=\"dataframe\">\n",
       "  <thead>\n",
       "    <tr style=\"text-align: right;\">\n",
       "      <th></th>\n",
       "      <th>RAxML_final</th>\n",
       "      <th>RAxML_init</th>\n",
       "      <th>final</th>\n",
       "      <th>init</th>\n",
       "      <th>Tree</th>\n",
       "      <th>final_diff</th>\n",
       "      <th>init_diff</th>\n",
       "    </tr>\n",
       "  </thead>\n",
       "  <tbody>\n",
       "    <tr>\n",
       "      <th>0</th>\n",
       "      <td>97.844371</td>\n",
       "      <td>107.738603</td>\n",
       "      <td>97.918340</td>\n",
       "      <td>107.738603</td>\n",
       "      <td>1</td>\n",
       "      <td>-0.073969</td>\n",
       "      <td>1.381182e-07</td>\n",
       "    </tr>\n",
       "    <tr>\n",
       "      <th>1</th>\n",
       "      <td>98.005915</td>\n",
       "      <td>109.574712</td>\n",
       "      <td>98.070647</td>\n",
       "      <td>109.574712</td>\n",
       "      <td>2</td>\n",
       "      <td>-0.064732</td>\n",
       "      <td>-3.916390e-07</td>\n",
       "    </tr>\n",
       "    <tr>\n",
       "      <th>2</th>\n",
       "      <td>98.652834</td>\n",
       "      <td>111.989154</td>\n",
       "      <td>98.731362</td>\n",
       "      <td>111.989154</td>\n",
       "      <td>3</td>\n",
       "      <td>-0.078528</td>\n",
       "      <td>-8.456189e-08</td>\n",
       "    </tr>\n",
       "    <tr>\n",
       "      <th>3</th>\n",
       "      <td>100.691335</td>\n",
       "      <td>116.492598</td>\n",
       "      <td>100.768108</td>\n",
       "      <td>116.492598</td>\n",
       "      <td>4</td>\n",
       "      <td>-0.076773</td>\n",
       "      <td>-1.333343e-07</td>\n",
       "    </tr>\n",
       "    <tr>\n",
       "      <th>4</th>\n",
       "      <td>100.602988</td>\n",
       "      <td>115.623924</td>\n",
       "      <td>100.609104</td>\n",
       "      <td>115.623924</td>\n",
       "      <td>5</td>\n",
       "      <td>-0.006116</td>\n",
       "      <td>-3.782509e-07</td>\n",
       "    </tr>\n",
       "    <tr>\n",
       "      <th>5</th>\n",
       "      <td>98.618106</td>\n",
       "      <td>113.619043</td>\n",
       "      <td>98.644239</td>\n",
       "      <td>113.619043</td>\n",
       "      <td>6</td>\n",
       "      <td>-0.026133</td>\n",
       "      <td>4.436594e-07</td>\n",
       "    </tr>\n",
       "    <tr>\n",
       "      <th>6</th>\n",
       "      <td>101.293659</td>\n",
       "      <td>119.207990</td>\n",
       "      <td>101.367430</td>\n",
       "      <td>119.207990</td>\n",
       "      <td>7</td>\n",
       "      <td>-0.073771</td>\n",
       "      <td>2.720112e-07</td>\n",
       "    </tr>\n",
       "    <tr>\n",
       "      <th>7</th>\n",
       "      <td>101.269260</td>\n",
       "      <td>118.297870</td>\n",
       "      <td>101.268925</td>\n",
       "      <td>118.297870</td>\n",
       "      <td>8</td>\n",
       "      <td>0.000335</td>\n",
       "      <td>-3.185302e-07</td>\n",
       "    </tr>\n",
       "    <tr>\n",
       "      <th>8</th>\n",
       "      <td>100.232380</td>\n",
       "      <td>111.911557</td>\n",
       "      <td>100.239011</td>\n",
       "      <td>111.911557</td>\n",
       "      <td>9</td>\n",
       "      <td>-0.006631</td>\n",
       "      <td>3.869548e-07</td>\n",
       "    </tr>\n",
       "    <tr>\n",
       "      <th>9</th>\n",
       "      <td>101.233636</td>\n",
       "      <td>117.888310</td>\n",
       "      <td>101.208388</td>\n",
       "      <td>117.888310</td>\n",
       "      <td>10</td>\n",
       "      <td>0.025248</td>\n",
       "      <td>-4.475176e-07</td>\n",
       "    </tr>\n",
       "    <tr>\n",
       "      <th>10</th>\n",
       "      <td>101.289328</td>\n",
       "      <td>119.988198</td>\n",
       "      <td>101.437280</td>\n",
       "      <td>119.988198</td>\n",
       "      <td>11</td>\n",
       "      <td>-0.147952</td>\n",
       "      <td>1.266911e-07</td>\n",
       "    </tr>\n",
       "    <tr>\n",
       "      <th>11</th>\n",
       "      <td>100.307594</td>\n",
       "      <td>112.563141</td>\n",
       "      <td>100.381741</td>\n",
       "      <td>112.563141</td>\n",
       "      <td>12</td>\n",
       "      <td>-0.074147</td>\n",
       "      <td>-1.719035e-07</td>\n",
       "    </tr>\n",
       "    <tr>\n",
       "      <th>12</th>\n",
       "      <td>101.289390</td>\n",
       "      <td>119.353772</td>\n",
       "      <td>101.380469</td>\n",
       "      <td>119.353772</td>\n",
       "      <td>13</td>\n",
       "      <td>-0.091079</td>\n",
       "      <td>2.970328e-07</td>\n",
       "    </tr>\n",
       "    <tr>\n",
       "      <th>13</th>\n",
       "      <td>98.653968</td>\n",
       "      <td>114.023359</td>\n",
       "      <td>98.706830</td>\n",
       "      <td>114.023359</td>\n",
       "      <td>14</td>\n",
       "      <td>-0.052862</td>\n",
       "      <td>-3.819194e-07</td>\n",
       "    </tr>\n",
       "    <tr>\n",
       "      <th>14</th>\n",
       "      <td>101.201850</td>\n",
       "      <td>118.164004</td>\n",
       "      <td>101.225311</td>\n",
       "      <td>118.164004</td>\n",
       "      <td>15</td>\n",
       "      <td>-0.023461</td>\n",
       "      <td>3.133654e-07</td>\n",
       "    </tr>\n",
       "  </tbody>\n",
       "</table>\n",
       "</div>"
      ],
      "text/plain": [
       "    RAxML_final  RAxML_init       final        init  Tree  final_diff  \\\n",
       "0     97.844371  107.738603   97.918340  107.738603     1   -0.073969   \n",
       "1     98.005915  109.574712   98.070647  109.574712     2   -0.064732   \n",
       "2     98.652834  111.989154   98.731362  111.989154     3   -0.078528   \n",
       "3    100.691335  116.492598  100.768108  116.492598     4   -0.076773   \n",
       "4    100.602988  115.623924  100.609104  115.623924     5   -0.006116   \n",
       "5     98.618106  113.619043   98.644239  113.619043     6   -0.026133   \n",
       "6    101.293659  119.207990  101.367430  119.207990     7   -0.073771   \n",
       "7    101.269260  118.297870  101.268925  118.297870     8    0.000335   \n",
       "8    100.232380  111.911557  100.239011  111.911557     9   -0.006631   \n",
       "9    101.233636  117.888310  101.208388  117.888310    10    0.025248   \n",
       "10   101.289328  119.988198  101.437280  119.988198    11   -0.147952   \n",
       "11   100.307594  112.563141  100.381741  112.563141    12   -0.074147   \n",
       "12   101.289390  119.353772  101.380469  119.353772    13   -0.091079   \n",
       "13    98.653968  114.023359   98.706830  114.023359    14   -0.052862   \n",
       "14   101.201850  118.164004  101.225311  118.164004    15   -0.023461   \n",
       "\n",
       "       init_diff  \n",
       "0   1.381182e-07  \n",
       "1  -3.916390e-07  \n",
       "2  -8.456189e-08  \n",
       "3  -1.333343e-07  \n",
       "4  -3.782509e-07  \n",
       "5   4.436594e-07  \n",
       "6   2.720112e-07  \n",
       "7  -3.185302e-07  \n",
       "8   3.869548e-07  \n",
       "9  -4.475176e-07  \n",
       "10  1.266911e-07  \n",
       "11 -1.719035e-07  \n",
       "12  2.970328e-07  \n",
       "13 -3.819194e-07  \n",
       "14  3.133654e-07  "
      ]
     },
     "execution_count": 45,
     "metadata": {},
     "output_type": "execute_result"
    }
   ],
   "source": [
    "raw_df"
   ]
  },
  {
   "cell_type": "markdown",
   "metadata": {},
   "source": [
    "We can also build the tree from scratch with RAxML and look at the log-likelihood score for the best tree and compare it to our best tree."
   ]
  },
  {
   "cell_type": "code",
   "execution_count": 46,
   "metadata": {},
   "outputs": [
    {
     "name": "stdout",
     "output_type": "stream",
     "text": [
      "\n",
      "RAxML-NG v. 0.8.1 BETA released on 05.03.2019 by The Exelixis Lab.\n",
      "Authors: Alexey Kozlov, Alexandros Stamatakis, Diego Darriba, Tomas Flouri, Benoit Morel.\n",
      "Latest version: https://github.com/amkozlov/raxml-ng\n",
      "Questions/problems/suggestions? Please visit: https://groups.google.com/forum/#!forum/raxml\n",
      "\n",
      "WARNING: This is a BETA release, please use at your own risk!\n",
      "\n",
      "RAxML-NG was called at 13-Mar-2019 16:53:35 as follows:\n",
      "\n",
      "raxml-ng --msa ./data/used_alignment.msa --model JC --threads 2 --prefix ./data/raxml --redo\n",
      "\n",
      "Analysis options:\n",
      "  run mode: ML tree search\n",
      "  start tree(s): random (10) + parsimony (10)\n",
      "  random seed: 1552492415\n",
      "  tip-inner: OFF\n",
      "  pattern compression: ON\n",
      "  per-rate scalers: OFF\n",
      "  site repeats: ON\n",
      "  fast spr radius: AUTO\n",
      "  spr subtree cutoff: 1.000000\n",
      "  branch lengths: proportional (ML estimate, algorithm: NR-FAST)\n",
      "  SIMD kernels: AVX2\n",
      "  parallelization: PTHREADS (2 threads), thread pinning: OFF\n",
      "\n",
      "WARNING: Running in REDO mode: existing checkpoints are ignored, and all result files will be overwritten!\n",
      "\n",
      "[00:00:00] Reading alignment from file: ./data/used_alignment.msa\n",
      "[00:00:00] Loaded alignment with 5 taxa and 20 sites\n",
      "\n",
      "Alignment comprises 1 partitions and 16 patterns\n",
      "\n",
      "Partition 0: noname\n",
      "Model: JC\n",
      "Alignment sites / patterns: 20 / 16\n",
      "Gaps: 0.00 %\n",
      "Invariant sites: 40.00 %\n",
      "\n",
      "\n",
      "NOTE: Binary MSA file created: ./data/raxml.raxml.rba\n",
      "\n",
      "\n",
      "WARNING: You might be using too many threads (2) for your alignment with 16 unique patterns.\n",
      "NOTE:    For the optimal throughput, please consider using fewer threads \n",
      "NOTE:    and parallelize across starting trees/bootstrap replicates.\n",
      "NOTE:    As a general rule-of-thumb, please assign at least 200-1000 alignment patterns per thread.\n",
      "\n",
      "[00:00:00] Generating 10 random starting tree(s) with 5 taxa\n",
      "[00:00:00] Generating 10 parsimony starting tree(s) with 5 taxa\n",
      "[00:00:00] Data distribution: max. partitions/sites/weight per thread: 1 / 8 / 32\n",
      "\n",
      "Starting ML tree search with 20 distinct starting trees\n",
      "\n",
      "[00:00:00 -107.738603] Initial branch length optimization\n",
      "[00:00:00 -99.005454] Model parameter optimization (eps = 10.000000)\n",
      "[00:00:00 -97.914048] AUTODETECT spr round 1 (radius: 5)\n",
      "[00:00:00 -97.845700] SPR radius for FAST iterations: 5 (autodetect)\n",
      "[00:00:00 -97.845700] Model parameter optimization (eps = 3.000000)\n",
      "[00:00:00 -97.844386] FAST spr round 1 (radius: 5)\n",
      "[00:00:00 -97.844299] Model parameter optimization (eps = 1.000000)\n",
      "[00:00:00 -97.844298] SLOW spr round 1 (radius: 5)\n",
      "[00:00:00 -97.844298] Model parameter optimization (eps = 0.100000)\n",
      "\n",
      "[00:00:00] ML tree search #1, logLikelihood: -97.844298\n",
      "\n",
      "[00:00:00 -119.207990] Initial branch length optimization\n",
      "[00:00:00 -101.301584] Model parameter optimization (eps = 10.000000)\n",
      "[00:00:00 -101.289466] AUTODETECT spr round 1 (radius: 5)\n",
      "[00:00:00 -98.621875] SPR radius for FAST iterations: 5 (autodetect)\n",
      "[00:00:00 -98.621875] Model parameter optimization (eps = 3.000000)\n",
      "[00:00:00 -98.620920] FAST spr round 1 (radius: 5)\n",
      "[00:00:00 -97.844300] FAST spr round 2 (radius: 5)\n",
      "[00:00:00 -97.844298] Model parameter optimization (eps = 1.000000)\n",
      "[00:00:00 -97.844298] SLOW spr round 1 (radius: 5)\n",
      "[00:00:00 -97.844298] Model parameter optimization (eps = 0.100000)\n",
      "\n",
      "[00:00:00] ML tree search #2, logLikelihood: -97.844298\n",
      "\n",
      "[00:00:00 -117.888310] Initial branch length optimization\n",
      "[00:00:00 -101.212900] Model parameter optimization (eps = 10.000000)\n",
      "[00:00:00 -101.201102] AUTODETECT spr round 1 (radius: 5)\n",
      "[00:00:00 -97.846129] SPR radius for FAST iterations: 5 (autodetect)\n",
      "[00:00:00 -97.846129] Model parameter optimization (eps = 3.000000)\n",
      "[00:00:00 -97.844418] FAST spr round 1 (radius: 5)\n",
      "[00:00:00 -97.844298] Model parameter optimization (eps = 1.000000)\n",
      "[00:00:00 -97.844298] SLOW spr round 1 (radius: 5)\n",
      "[00:00:00 -97.844298] Model parameter optimization (eps = 0.100000)\n",
      "\n",
      "[00:00:00] ML tree search #3, logLikelihood: -97.844298\n",
      "\n",
      "[00:00:00 -116.492598] Initial branch length optimization\n",
      "[00:00:00 -100.695620] Model parameter optimization (eps = 10.000000)\n",
      "[00:00:00 -100.691579] AUTODETECT spr round 1 (radius: 5)\n",
      "[00:00:00 -97.844299] SPR radius for FAST iterations: 5 (autodetect)\n",
      "[00:00:00 -97.844299] Model parameter optimization (eps = 3.000000)\n",
      "[00:00:00 -97.844298] FAST spr round 1 (radius: 5)\n",
      "[00:00:00 -97.844298] Model parameter optimization (eps = 1.000000)\n",
      "[00:00:00 -97.844298] SLOW spr round 1 (radius: 5)\n",
      "[00:00:00 -97.844298] Model parameter optimization (eps = 0.100000)\n",
      "\n",
      "[00:00:00] ML tree search #4, logLikelihood: -97.844298\n",
      "\n",
      "[00:00:00 -111.989154] Initial branch length optimization\n",
      "[00:00:00 -98.898029] Model parameter optimization (eps = 10.000000)\n",
      "[00:00:00 -98.745289] AUTODETECT spr round 1 (radius: 5)\n",
      "[00:00:00 -98.006058] SPR radius for FAST iterations: 5 (autodetect)\n",
      "[00:00:00 -98.006058] Model parameter optimization (eps = 3.000000)\n",
      "[00:00:00 -98.005873] FAST spr round 1 (radius: 5)\n",
      "[00:00:00 -97.844298] FAST spr round 2 (radius: 5)\n",
      "[00:00:00 -97.844298] Model parameter optimization (eps = 1.000000)\n",
      "[00:00:00 -97.844298] SLOW spr round 1 (radius: 5)\n",
      "[00:00:00 -97.844298] Model parameter optimization (eps = 0.100000)\n",
      "\n",
      "[00:00:00] ML tree search #5, logLikelihood: -97.844298\n",
      "\n",
      "[00:00:00 -107.738603] Initial branch length optimization\n",
      "[00:00:00 -99.005454] Model parameter optimization (eps = 10.000000)\n",
      "[00:00:00 -97.914048] AUTODETECT spr round 1 (radius: 5)\n",
      "[00:00:00 -97.845700] SPR radius for FAST iterations: 5 (autodetect)\n",
      "[00:00:00 -97.845700] Model parameter optimization (eps = 3.000000)\n",
      "[00:00:00 -97.844386] FAST spr round 1 (radius: 5)\n",
      "[00:00:00 -97.844299] Model parameter optimization (eps = 1.000000)\n",
      "[00:00:00 -97.844298] SLOW spr round 1 (radius: 5)\n",
      "[00:00:00 -97.844298] Model parameter optimization (eps = 0.100000)\n",
      "\n",
      "[00:00:00] ML tree search #6, logLikelihood: -97.844298\n",
      "\n",
      "[00:00:00 -118.164004] Initial branch length optimization\n",
      "[00:00:00 -101.199931] Model parameter optimization (eps = 10.000000)\n",
      "[00:00:00 -101.199412] AUTODETECT spr round 1 (radius: 5)\n",
      "[00:00:00 -97.846476] SPR radius for FAST iterations: 5 (autodetect)\n",
      "[00:00:00 -97.846476] Model parameter optimization (eps = 3.000000)\n",
      "[00:00:00 -97.844440] FAST spr round 1 (radius: 5)\n",
      "[00:00:00 -97.844298] Model parameter optimization (eps = 1.000000)\n",
      "[00:00:00 -97.844298] SLOW spr round 1 (radius: 5)\n",
      "[00:00:00 -97.844298] Model parameter optimization (eps = 0.100000)\n",
      "\n",
      "[00:00:00] ML tree search #7, logLikelihood: -97.844298\n",
      "\n",
      "[00:00:00 -119.988198] Initial branch length optimization\n",
      "[00:00:00 -101.289984] Model parameter optimization (eps = 10.000000)\n",
      "[00:00:00 -101.289322] AUTODETECT spr round 1 (radius: 5)\n",
      "[00:00:00 -98.633435] SPR radius for FAST iterations: 5 (autodetect)\n",
      "[00:00:00 -98.633435] Model parameter optimization (eps = 3.000000)\n",
      "[00:00:00 -98.620093] FAST spr round 1 (radius: 5)\n",
      "[00:00:00 -97.844300] FAST spr round 2 (radius: 5)\n",
      "[00:00:00 -97.844298] Model parameter optimization (eps = 1.000000)\n",
      "[00:00:00 -97.844298] SLOW spr round 1 (radius: 5)\n",
      "[00:00:00 -97.844298] Model parameter optimization (eps = 0.100000)\n",
      "\n",
      "[00:00:00] ML tree search #8, logLikelihood: -97.844298\n",
      "\n",
      "[00:00:00 -112.563141] Initial branch length optimization\n",
      "[00:00:00 -100.326154] Model parameter optimization (eps = 10.000000)\n",
      "[00:00:00 -100.308638] AUTODETECT spr round 1 (radius: 5)\n",
      "[00:00:00 -97.848929] SPR radius for FAST iterations: 5 (autodetect)\n",
      "[00:00:00 -97.848929] Model parameter optimization (eps = 3.000000)\n",
      "[00:00:00 -97.844588] FAST spr round 1 (radius: 5)\n",
      "[00:00:00 -97.844298] Model parameter optimization (eps = 1.000000)\n",
      "[00:00:00 -97.844298] SLOW spr round 1 (radius: 5)\n",
      "[00:00:00 -97.844298] Model parameter optimization (eps = 0.100000)\n",
      "\n",
      "[00:00:00] ML tree search #9, logLikelihood: -97.844298\n",
      "\n",
      "[00:00:00 -117.888310] Initial branch length optimization\n",
      "[00:00:00 -101.212900] Model parameter optimization (eps = 10.000000)\n",
      "[00:00:00 -101.201102] AUTODETECT spr round 1 (radius: 5)\n",
      "[00:00:00 -97.846129] SPR radius for FAST iterations: 5 (autodetect)\n",
      "[00:00:00 -97.846129] Model parameter optimization (eps = 3.000000)\n",
      "[00:00:00 -97.844418] FAST spr round 1 (radius: 5)\n",
      "[00:00:00 -97.844298] Model parameter optimization (eps = 1.000000)\n",
      "[00:00:00 -97.844298] SLOW spr round 1 (radius: 5)\n",
      "[00:00:00 -97.844298] Model parameter optimization (eps = 0.100000)\n",
      "\n",
      "[00:00:00] ML tree search #10, logLikelihood: -97.844298\n",
      "\n",
      "[00:00:00 -109.574712] Initial branch length optimization\n",
      "[00:00:00 -101.731367] Model parameter optimization (eps = 10.000000)\n",
      "[00:00:00 -98.504957] AUTODETECT spr round 1 (radius: 5)\n",
      "[00:00:00 -97.844298] SPR radius for FAST iterations: 5 (autodetect)\n",
      "[00:00:00 -97.844298] Model parameter optimization (eps = 3.000000)\n",
      "[00:00:00 -97.844298] FAST spr round 1 (radius: 5)\n",
      "[00:00:00 -97.844298] Model parameter optimization (eps = 1.000000)\n",
      "[00:00:00 -97.844298] SLOW spr round 1 (radius: 5)\n",
      "[00:00:00 -97.844298] Model parameter optimization (eps = 0.100000)\n",
      "\n",
      "[00:00:00] ML tree search #11, logLikelihood: -97.844298\n",
      "\n",
      "[00:00:00 -107.738603] Initial branch length optimization\n",
      "[00:00:00 -98.156469] Model parameter optimization (eps = 10.000000)\n",
      "[00:00:00 -97.858937] AUTODETECT spr round 1 (radius: 5)\n",
      "[00:00:00 -97.847244] SPR radius for FAST iterations: 5 (autodetect)\n",
      "[00:00:00 -97.847244] Model parameter optimization (eps = 3.000000)\n",
      "[00:00:00 -97.844482] FAST spr round 1 (radius: 5)\n",
      "[00:00:00 -97.844299] Model parameter optimization (eps = 1.000000)\n",
      "[00:00:00 -97.844298] SLOW spr round 1 (radius: 5)\n",
      "[00:00:00 -97.844298] Model parameter optimization (eps = 0.100000)\n",
      "\n",
      "[00:00:00] ML tree search #12, logLikelihood: -97.844298\n",
      "\n",
      "[00:00:00 -107.738603] Initial branch length optimization\n",
      "[00:00:00 -97.994190] Model parameter optimization (eps = 10.000000)\n",
      "[00:00:00 -97.861273] AUTODETECT spr round 1 (radius: 5)\n",
      "[00:00:00 -97.845395] SPR radius for FAST iterations: 5 (autodetect)\n",
      "[00:00:00 -97.845395] Model parameter optimization (eps = 3.000000)\n",
      "[00:00:00 -97.844367] FAST spr round 1 (radius: 5)\n",
      "[00:00:00 -97.844298] Model parameter optimization (eps = 1.000000)\n",
      "[00:00:00 -97.844298] SLOW spr round 1 (radius: 5)\n",
      "[00:00:00 -97.844298] Model parameter optimization (eps = 0.100000)\n",
      "\n",
      "[00:00:00] ML tree search #13, logLikelihood: -97.844298\n",
      "\n",
      "[00:00:00 -109.574712] Initial branch length optimization\n",
      "[00:00:00 -101.862159] Model parameter optimization (eps = 10.000000)\n",
      "[00:00:00 -98.456669] AUTODETECT spr round 1 (radius: 5)\n",
      "[00:00:00 -97.844298] SPR radius for FAST iterations: 5 (autodetect)\n",
      "[00:00:00 -97.844298] Model parameter optimization (eps = 3.000000)\n",
      "[00:00:00 -97.844298] FAST spr round 1 (radius: 5)\n",
      "[00:00:00 -97.844298] Model parameter optimization (eps = 1.000000)\n",
      "[00:00:00 -97.844298] SLOW spr round 1 (radius: 5)\n",
      "[00:00:00 -97.844298] Model parameter optimization (eps = 0.100000)\n",
      "\n",
      "[00:00:00] ML tree search #14, logLikelihood: -97.844298\n",
      "\n",
      "[00:00:00 -107.738603] Initial branch length optimization\n",
      "[00:00:00 -97.994190] Model parameter optimization (eps = 10.000000)\n",
      "[00:00:00 -97.861273] AUTODETECT spr round 1 (radius: 5)\n",
      "[00:00:00 -97.845395] SPR radius for FAST iterations: 5 (autodetect)\n",
      "[00:00:00 -97.845395] Model parameter optimization (eps = 3.000000)\n",
      "[00:00:00 -97.844367] FAST spr round 1 (radius: 5)\n",
      "[00:00:00 -97.844298] Model parameter optimization (eps = 1.000000)\n",
      "[00:00:00 -97.844298] SLOW spr round 1 (radius: 5)\n",
      "[00:00:00 -97.844298] Model parameter optimization (eps = 0.100000)\n",
      "\n",
      "[00:00:00] ML tree search #15, logLikelihood: -97.844298\n",
      "\n",
      "[00:00:00 -107.738603] Initial branch length optimization\n",
      "[00:00:00 -98.024034] Model parameter optimization (eps = 10.000000)\n",
      "[00:00:00 -97.867763] AUTODETECT spr round 1 (radius: 5)\n",
      "[00:00:00 -97.845841] SPR radius for FAST iterations: 5 (autodetect)\n",
      "[00:00:00 -97.845841] Model parameter optimization (eps = 3.000000)\n",
      "[00:00:00 -97.844395] FAST spr round 1 (radius: 5)\n",
      "[00:00:00 -97.844298] Model parameter optimization (eps = 1.000000)\n",
      "[00:00:00 -97.844298] SLOW spr round 1 (radius: 5)\n",
      "[00:00:00 -97.844298] Model parameter optimization (eps = 0.100000)\n",
      "\n",
      "[00:00:00] ML tree search #16, logLikelihood: -97.844298\n",
      "\n",
      "[00:00:00 -107.738603] Initial branch length optimization\n",
      "[00:00:00 -98.168067] Model parameter optimization (eps = 10.000000)\n",
      "[00:00:00 -97.871849] AUTODETECT spr round 1 (radius: 5)\n",
      "[00:00:00 -97.846130] SPR radius for FAST iterations: 5 (autodetect)\n",
      "[00:00:00 -97.846130] Model parameter optimization (eps = 3.000000)\n",
      "[00:00:00 -97.844413] FAST spr round 1 (radius: 5)\n",
      "[00:00:00 -97.844298] Model parameter optimization (eps = 1.000000)\n",
      "[00:00:00 -97.844298] SLOW spr round 1 (radius: 5)\n",
      "[00:00:00 -97.844298] Model parameter optimization (eps = 0.100000)\n",
      "\n",
      "[00:00:00] ML tree search #17, logLikelihood: -97.844298\n",
      "\n",
      "[00:00:00 -109.574712] Initial branch length optimization\n",
      "[00:00:00 -98.016275] Model parameter optimization (eps = 10.000000)\n",
      "[00:00:00 -98.006787] AUTODETECT spr round 1 (radius: 5)\n",
      "[00:00:00 -97.844304] SPR radius for FAST iterations: 5 (autodetect)\n",
      "[00:00:00 -97.844304] Model parameter optimization (eps = 3.000000)\n",
      "[00:00:00 -97.844298] FAST spr round 1 (radius: 5)\n",
      "[00:00:00 -97.844298] Model parameter optimization (eps = 1.000000)\n",
      "[00:00:00 -97.844298] SLOW spr round 1 (radius: 5)\n",
      "[00:00:00 -97.844298] Model parameter optimization (eps = 0.100000)\n",
      "\n",
      "[00:00:00] ML tree search #18, logLikelihood: -97.844298\n",
      "\n",
      "[00:00:00 -109.574712] Initial branch length optimization\n",
      "[00:00:00 -101.158385] Model parameter optimization (eps = 10.000000)\n",
      "[00:00:00 -98.301581] AUTODETECT spr round 1 (radius: 5)\n",
      "[00:00:00 -97.844314] SPR radius for FAST iterations: 5 (autodetect)\n",
      "[00:00:00 -97.844314] Model parameter optimization (eps = 3.000000)\n",
      "[00:00:00 -97.844299] FAST spr round 1 (radius: 5)\n",
      "[00:00:00 -97.844298] Model parameter optimization (eps = 1.000000)\n",
      "[00:00:00 -97.844298] SLOW spr round 1 (radius: 5)\n",
      "[00:00:00 -97.844298] Model parameter optimization (eps = 0.100000)\n",
      "\n",
      "[00:00:00] ML tree search #19, logLikelihood: -97.844298\n",
      "\n",
      "[00:00:00 -109.574712] Initial branch length optimization\n",
      "[00:00:00 -100.357546] Model parameter optimization (eps = 10.000000)\n",
      "[00:00:00 -98.200915] AUTODETECT spr round 1 (radius: 5)\n",
      "[00:00:00 -97.844306] SPR radius for FAST iterations: 5 (autodetect)\n",
      "[00:00:00 -97.844306] Model parameter optimization (eps = 3.000000)\n",
      "[00:00:00 -97.844298] FAST spr round 1 (radius: 5)\n",
      "[00:00:00 -97.844298] Model parameter optimization (eps = 1.000000)\n",
      "[00:00:00 -97.844298] SLOW spr round 1 (radius: 5)\n",
      "[00:00:00 -97.844298] Model parameter optimization (eps = 0.100000)\n",
      "\n",
      "[00:00:00] ML tree search #20, logLikelihood: -97.844298\n",
      "\n",
      "\n",
      "Optimized model parameters:\n",
      "\n",
      "   Partition 0: noname\n",
      "   Rate heterogeneity: NONE\n",
      "   Base frequencies (model): 0.250000 0.250000 0.250000 0.250000 \n",
      "   Substitution rates (model): 1.000000 1.000000 1.000000 1.000000 1.000000 1.000000 \n",
      "\n",
      "Final LogLikelihood: -97.844298\n",
      "\n",
      "AIC score: 209.688596 / AICc score: 219.021929 / BIC score: 216.658722\n",
      "Free parameters (model + branch lengths): 7\n",
      "\n",
      "Best ML tree saved to: /Users/emiha442/Documents/Work/Courses/algorithms_in_bioinformatics/phylogenetic_tree_reconstruction/data/raxml.raxml.bestTree\n",
      "All ML trees saved to: /Users/emiha442/Documents/Work/Courses/algorithms_in_bioinformatics/phylogenetic_tree_reconstruction/data/raxml.raxml.mlTrees\n",
      "Optimized model saved to: /Users/emiha442/Documents/Work/Courses/algorithms_in_bioinformatics/phylogenetic_tree_reconstruction/data/raxml.raxml.bestModel\n",
      "\n",
      "Execution log saved to: /Users/emiha442/Documents/Work/Courses/algorithms_in_bioinformatics/phylogenetic_tree_reconstruction/data/raxml.raxml.log\n",
      "\n",
      "Analysis started: 13-Mar-2019 16:53:35 / finished: 13-Mar-2019 16:53:35\n",
      "\n",
      "Elapsed time: 0.170 seconds\n",
      "\n"
     ]
    }
   ],
   "source": [
    "%%bash\n",
    "raxml-ng --msa ./data/used_alignment.msa --model JC --threads 2 --prefix ./data/raxml --redo\n",
    "grep 'Final' ./data/raxml.raxml.log > ./data/raxml.best_score"
   ]
  },
  {
   "cell_type": "code",
   "execution_count": 47,
   "metadata": {},
   "outputs": [
    {
     "name": "stdout",
     "output_type": "stream",
     "text": [
      "Log-likelihood diff between our best tree and RAxML best tree:\n",
      "-0.07404239611079788\n"
     ]
    }
   ],
   "source": [
    "with open('./data/raxml.best_score', 'r') as f:\n",
    "    for line in f:\n",
    "        best_raxml_tree = float(line.split(\" \")[-1].strip())\n",
    "print(\"Log-likelihood diff between our best tree and RAxML best tree:\")\n",
    "print(m - best_raxml_tree)"
   ]
  },
  {
   "cell_type": "markdown",
   "metadata": {},
   "source": [
    "Topics that could be added on top of this in the future are:\n",
    "* How do we do when we have more than 6 species?\n",
    "* How do we use bootstrap to find well supported branches?"
   ]
  },
  {
   "cell_type": "code",
   "execution_count": null,
   "metadata": {},
   "outputs": [],
   "source": []
  }
 ],
 "metadata": {
  "kernelspec": {
   "display_name": "Python 3",
   "language": "python",
   "name": "python3"
  },
  "language_info": {
   "codemirror_mode": {
    "name": "ipython",
    "version": 3
   },
   "file_extension": ".py",
   "mimetype": "text/x-python",
   "name": "python",
   "nbconvert_exporter": "python",
   "pygments_lexer": "ipython3",
   "version": "3.5.5"
  }
 },
 "nbformat": 4,
 "nbformat_minor": 2
}
