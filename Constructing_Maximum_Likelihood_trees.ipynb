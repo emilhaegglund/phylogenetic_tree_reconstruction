{
 "cells": [
  {
   "cell_type": "markdown",
   "metadata": {},
   "source": [
    "# Constructing phylogenetic trees using Maximum Likelihood\n",
    "This Jupyter notebook is created as a project in the Algorithms in Bioinformatics course 2018 given by [Swedish National Graduate School in Medical Bioinformatics](http://www.medbioinfo.se/).   \n",
    "\n",
    "Let's begin by importing the nessecary packages that we will using this tutorial and adding some plotting functions that we need later."
   ]
  },
  {
   "cell_type": "code",
   "execution_count": 177,
   "metadata": {},
   "outputs": [],
   "source": [
    "import numpy as np\n",
    "import math\n",
    "from scipy import optimize\n",
    "import dendropy\n",
    "import random \n",
    "import matplotlib.pyplot as plt\n",
    "import seaborn as sns\n",
    "from Bio import Phylo\n",
    "import networkx as nx\n",
    "from networkx.drawing.nx_agraph import graphviz_layout\n",
    "import pylab\n",
    "import io\n",
    "import warnings; warnings.simplefilter('ignore')\n",
    "import pandas as pd\n",
    "random.seed(1)"
   ]
  },
  {
   "cell_type": "code",
   "execution_count": 5,
   "metadata": {},
   "outputs": [],
   "source": [
    "def plot_unrooted_tree(tree):\n",
    "    handle = io.StringIO(str(tree))\n",
    "    tree_nwk = Phylo.read(handle, 'newick')\n",
    "    for idx, clade in enumerate(tree_nwk.find_clades()):  # name the inner nodes\n",
    "        if not clade.name:\n",
    "            clade.name = 'Inner' + str(idx)\n",
    "        \n",
    "    net = Phylo.to_networkx(tree_nwk)\n",
    "    pos = graphviz_layout(net)\n",
    "    e_color = 'black'\n",
    "    node_sizes = []\n",
    "    labels = {}\n",
    "    node_colors = []\n",
    "\n",
    "    for n in list(net.nodes(data=True)):\n",
    "        label = str(n[0])\n",
    "        if 'Inner' in label:\n",
    "            node_sizes.append(1)\n",
    "            labels[n[0]] = ''\n",
    "            node_colors.append(e_color)\n",
    "        else:\n",
    "            node_sizes.append(240)\n",
    "            labels[n[0]] = label\n",
    "            node_colors.append('r')\n",
    "    nx.draw(net, pos,edge_color=e_color,node_size = node_sizes, labels=labels, with_labels=True,node_color=node_colors) \n",
    "    \n",
    "    pylab.show()"
   ]
  },
  {
   "cell_type": "code",
   "execution_count": 6,
   "metadata": {},
   "outputs": [],
   "source": [
    "def plot_rooted_tree(tree, node_probs):\n",
    "    G = nx.DiGraph()\n",
    "    \n",
    "    for node in tree.preorder_node_iter():\n",
    "        attr_dict = {}\n",
    "        attr_dict['names'] = str(node.taxon)\n",
    "        G.add_node(node)\n",
    "        if node != tree.seed_node:\n",
    "            G.add_edge(node, node.parent_node)\n",
    "            \n",
    "    labels = {}\n",
    "    for n in list(G.nodes(data=True)):\n",
    "        labels[n[0]] = str(n[0].taxon).replace(\"'\", \"\")\n",
    "        \n",
    "        \n",
    "    pos = graphviz_layout(G, prog='dot')\n",
    "    nx.draw(G, pos, labels=labels, arrows=True)\n",
    "    for n in list(G.nodes(data=True)):\n",
    "        x, y = pos[n[0]]\n",
    "        if n[0] in node_probs.keys():\n",
    "            plt.text(x + 100,y - 20,s=node_probs[n[0]], bbox=dict(facecolor='red', alpha=0.2))\n",
    "    pylab.show()"
   ]
  },
  {
   "cell_type": "markdown",
   "metadata": {},
   "source": [
    "### Multiple Sequence Alignment\n",
    "The first step in creating a phylogenetic tree is to do a multiple sequence alignment (MSA) of the sequences that we want to include in our tree. This is done to find [homologous](https://en.wikipedia.org/wiki/Sequence_homology) posititions in the sequences, that is finding positions that have a shared ancestry. There are many  different tools for doing this, but the most common ones are [ClustalW](https://www.ebi.ac.uk/Tools/msa/clustalo/), [MUSCLE](https://www.ebi.ac.uk/Tools/msa/muscle/) and [MAFFT](https://www.ebi.ac.uk/Tools/msa/mafft/).\n",
    "An MSA can be represented in many different ways and there are many different file formats for storing MSAs. The most common way is that each row represent a sequnce in the alignment and each column represent a position in the alignment. If the alignment was done on the protein level each cell will contain either an ammino acid or a deletion sign, usually a -. In python we can represent an MSA as a dictionary where each key is the sequence identifier and each value is a list containing the element at each position in the alignment.\n"
   ]
  },
  {
   "cell_type": "code",
   "execution_count": 256,
   "metadata": {},
   "outputs": [],
   "source": [
    "def read_msa(path, length):\n",
    "    \"\"\"\n",
    "    Read a multiple sequence alignment (MSA) in fasta format\n",
    "    and returns a dictionary where each key is the sequence\n",
    "    identifier and each value is a list with the elements\n",
    "    of the alignmnent.\n",
    "    \n",
    "    Args:\n",
    "    path (str) - Path to the fasta file.\n",
    "    \n",
    "    Return:\n",
    "    msa (dict) - The MSA in a dictionary\n",
    "    \"\"\"\n",
    "    msa = {}\n",
    "    with open(path, 'r') as fasta_file:\n",
    "        lines = fasta_file.readlines()\n",
    "        for i in range(len(lines)):\n",
    "            if lines[i][0] == '>':\n",
    "                seq_id = lines[i].split(\" \")[0].strip()\n",
    "                msa[seq_id] = ''\n",
    "            else:\n",
    "                alignment = lines[i].strip()\n",
    "                msa[seq_id] += alignment\n",
    "    \n",
    "    if length != 'full':\n",
    "        for k in msa:\n",
    "            sub_aln = msa[k][0:length]\n",
    "            msa[k] = sub_aln\n",
    "    \n",
    "    return msa"
   ]
  },
  {
   "cell_type": "markdown",
   "metadata": {},
   "source": [
    "Now we can read the alignment and take a look at how the dictionary looks like"
   ]
  },
  {
   "cell_type": "code",
   "execution_count": 93,
   "metadata": {},
   "outputs": [
    {
     "name": "stdout",
     "output_type": "stream",
     "text": [
      "{'F': 'ATGTTTAAGATAT', 'D': 'ATGCGTTAGTTTG', 'B': 'ATGGCTAAGAGTT', 'A': 'ATGGGTAAGATTG', 'E': 'ATGGCTAAGATAT', 'C': 'ATGCGTTAGAGTT'}\n"
     ]
    }
   ],
   "source": [
    "alignment = read_msa('./data/msa.fasta')\n",
    "print(alignment)"
   ]
  },
  {
   "cell_type": "markdown",
   "metadata": {},
   "source": [
    "### Jukes and Cantor model\n",
    "We will use the simplest model for sequence evolution, the Jukes-Cantor model. This assume that the equilibrium rate for all sequences are the same, 0.25, and that the probability of changing from one nucleotide to another is the same for all nucleotides. It can be shown that the probability to observe a mutation at a site is\n",
    "\n",
    "$\\frac{1}{4} + \\frac{3}{4} * \\exp^{\\frac{-4}{3}d}$\n",
    "\n",
    "where d is the number of substitutions per site and we can also show that the probability to observe no mutation at a site is\n",
    "\n",
    "$\\frac{1}{4} * (1-\\exp{\\frac{-4}{3}d})$\n",
    "\n",
    "In the ML-setting we seek to maximize these probabilities given "
   ]
  },
  {
   "cell_type": "markdown",
   "metadata": {},
   "source": [
    "The two different functions are implemented below."
   ]
  },
  {
   "cell_type": "code",
   "execution_count": 94,
   "metadata": {},
   "outputs": [],
   "source": [
    "def prob_no_mutation_jc(distance):\n",
    "    \"\"\"\n",
    "    Calculate the probability to not observe a mutation for a given distance using Jukes-Cantor model\n",
    "    \n",
    "    Parameters:\n",
    "    distance - \n",
    "    \"\"\"\n",
    "    prob = (1/4) + (3*np.exp((-4/3) * distance))/4\n",
    "    return prob"
   ]
  },
  {
   "cell_type": "code",
   "execution_count": 95,
   "metadata": {},
   "outputs": [],
   "source": [
    "def prob_mutation_jc(distance):\n",
    "    \"\"\"\n",
    "    Calculate the probability to observe a mutation for a given distance using Jukes-Cantor model.\n",
    "    \n",
    "    Parameters:\n",
    "    distance - \n",
    "    \"\"\"\n",
    "    prob = (1/4) * (1 - np.exp((-4/3) * distance))\n",
    "    return prob"
   ]
  },
  {
   "cell_type": "markdown",
   "metadata": {},
   "source": [
    "### Trees\n",
    "Now we have read an alignment, next we need trees. The number of possible unrooted trees are growing very fast, we can calculate the number of \n",
    "\n",
    "$\\frac{(2n-3)!}{2^{n-2}(n-2)!}$\n",
    "\n",
    "To get a feeling for how many trees there are we can write a function to calculate the number of trees given the number of taxa and this plot the relationship."
   ]
  },
  {
   "cell_type": "code",
   "execution_count": 11,
   "metadata": {},
   "outputs": [],
   "source": [
    "def number_of_trees(n_taxa):\n",
    "    \"\"\"\n",
    "    Calculate the number of possible unrooted trees\n",
    "    for a given number of taxa\n",
    "    \n",
    "    Paramenters:\n",
    "    n_taxa (int) - number of taxa\n",
    "    \n",
    "    Return\n",
    "    number of possible unrooted trees\n",
    "    \"\"\"\n",
    "    trees =  math.factorial(2*n_taxa - 3) / (2 ** (n_taxa - 2) * math.factorial(n_taxa-2))\n",
    "    return trees"
   ]
  },
  {
   "cell_type": "code",
   "execution_count": 12,
   "metadata": {},
   "outputs": [
    {
     "data": {
      "image/png": "[encoded data removed]",
      "text/plain": [
       "<Figure size 432x288 with 1 Axes>"
      ]
     },
     "metadata": {
      "needs_background": "light"
     },
     "output_type": "display_data"
    }
   ],
   "source": [
    "taxas = np.arange(2,30)\n",
    "f = np.vectorize(number_of_trees)\n",
    "fig, ax = plt.subplots()\n",
    "sns.lineplot(x=taxas, y=f(taxas))\n",
    "ax.set(yscale=\"log\")\n",
    "plt.show()"
   ]
  },
  {
   "cell_type": "markdown",
   "metadata": {},
   "source": [
    "For 9 taxa there are 2,027,025 trees, adding one taxa we instead have 34,459,425 different trees. In this tutorial we assume that the number of taxa in the alignment are fewer then 6-7, then it's possible to evaluate all different trees. For a larger number of taxa it's not possible to examine all trees and we need to use heuristic methods to find the best tree."
   ]
  },
  {
   "cell_type": "markdown",
   "metadata": {},
   "source": [
    "Next step is to create a function that will create the topology for all different trees from the list of taxa. To do this we can use the python package [dendropy](https://dendropy.org/) for handling the underlying tree data structure. This is great because then we will already have built-in functions for adding and removing nodes, get children and parents to nodes, and also we can write the tree to a newick string, this makes it possible for us to plot the tree.\n",
    "\n",
    "We can build all possible trees starting from a root that is conected to three taxa. From this we can then add one taxa to the tree by adding it to each branch in the original tree and save each new tree. For the next taxa, we take the tree new trees, and for each tree we add the new taxa to all edges on that three, and save each new tree. After this round we will have fifteen different trees. We continue this process untill all taxa have been added. In this function we set all branch length to the same distance, 0.5."
   ]
  },
  {
   "cell_type": "code",
   "execution_count": 53,
   "metadata": {},
   "outputs": [],
   "source": [
    "def create_all_trees(taxons):\n",
    "    \"\"\"\n",
    "    Generate all possible trees by first creating a tree with a root\n",
    "    and three terminal taxa. For each remaining taxa, each edge in the\n",
    "    tree is split and a new taxa is inserted as a terminal node.\n",
    "    \n",
    "    Parameters:\n",
    "    taxons = list of taxa\n",
    "    \n",
    "    Return\n",
    "    tree_list = list with all possible trees\n",
    "    \"\"\"\n",
    "    taxon_list = taxons\n",
    "    taxon_namespace = dendropy.TaxonNamespace(taxon_list)\n",
    "    init_tree = dendropy.Tree(taxon_namespace=taxon_namespace)\n",
    "    \n",
    "    ch1 = init_tree.seed_node.new_child(edge_length=0.1)\n",
    "    ch2 = init_tree.seed_node.new_child(edge_length=0.1)\n",
    "    ch3 = init_tree.seed_node.new_child(edge_length=0.1)\n",
    "\n",
    "    ch1.taxon = taxon_namespace.get_taxon(taxon_list[0])\n",
    "    ch2.taxon = taxon_namespace.get_taxon(taxon_list[1])\n",
    "    ch3.taxon = taxon_namespace.get_taxon(taxon_list[2])\n",
    "\n",
    "    tree_list = [init_tree.extract_tree()]\n",
    "    for taxa in taxon_list[3:]:\n",
    "        new_tree_list = []\n",
    "        for tree in tree_list:\n",
    "            node_list = list(tree.levelorder_node_iter())\n",
    "            for node in node_list:\n",
    "                children = list(node.child_nodes())\n",
    "                for i,child in enumerate(children):\n",
    "                    removed_node = node.remove_child(child)\n",
    "                    internal_node = node.new_child(edge_length=0.1)\n",
    "                    internal_node.add_child(removed_node)\n",
    "\n",
    "\n",
    "                    new_taxa = internal_node.new_child(edge_length=0.1)\n",
    "                    new_taxa.taxon = taxon_namespace.get_taxon(taxa)\n",
    "                    new_tree_list.append(tree.extract_tree())\n",
    "                    node.remove_child(internal_node)\n",
    "                    node.add_child(removed_node)\n",
    "        tree_list = new_tree_list\n",
    "\n",
    "    return tree_list"
   ]
  },
  {
   "cell_type": "markdown",
   "metadata": {},
   "source": [
    "This function can be tested by creating the three possible unrooted trees that can be obtained from three taxa"
   ]
  },
  {
   "cell_type": "code",
   "execution_count": 14,
   "metadata": {},
   "outputs": [
    {
     "data": {
      "image/png": "[encoded data removed]",
      "text/plain": [
       "<Figure size 432x288 with 1 Axes>"
      ]
     },
     "metadata": {},
     "output_type": "display_data"
    },
    {
     "data": {
      "image/png": "[encoded data removed]",
      "text/plain": [
       "<Figure size 432x288 with 1 Axes>"
      ]
     },
     "metadata": {},
     "output_type": "display_data"
    },
    {
     "data": {
      "image/png": "[encoded data removed]",
      "text/plain": [
       "<Figure size 432x288 with 1 Axes>"
      ]
     },
     "metadata": {},
     "output_type": "display_data"
    }
   ],
   "source": [
    "test_taxa = [\"A\", \"B\", \"C\", \"D\"]\n",
    "trees = create_all_trees(test_taxa)\n",
    "for tree in trees:\n",
    "    plot_unrooted_tree(tree)"
   ]
  },
  {
   "cell_type": "markdown",
   "metadata": {},
   "source": [
    "Now we have an alignment and we have a function to create all the trees and it's time to find the likelihood for the tree. We will start to assign the probabilities for observing a specific nucleotide at a specific site in each node. We start with the easiest nodes, the leaves. For these nodes we actually have the observations from the alignment. So for each leaf node we create a matrix with the size 4 x alignment length, We loop over each position and set the element in the matrix corresponding to the observed nucleotide to 1, the others are kept at 0."
   ]
  },
  {
   "cell_type": "code",
   "execution_count": 110,
   "metadata": {},
   "outputs": [],
   "source": [
    "def set_nucleotide_probs(node, node_probs, seq):\n",
    "    nucl_map = {'A':0, 'C':1, 'G':2, 'T':3}\n",
    "    nucl_prob = np.zeros((4, len(seq)))\n",
    "    for index, nucleotide in enumerate(seq):\n",
    "        if nucleotide == '-':\n",
    "            x = np.ones(4)\n",
    "            nucl_prob[:, index] = x\n",
    "            continue\n",
    "        row = nucl_map[nucleotide]\n",
    "        nucl_prob[row, index] = 1  # observed nucleotide\n",
    "    node_probs[node] = nucl_prob\n",
    "    \n",
    "    return node_probs"
   ]
  },
  {
   "cell_type": "markdown",
   "metadata": {},
   "source": [
    "We can test this function and see what it produces. We select a leaf node from the tree and create an empty dictionary to store the probabilites in."
   ]
  },
  {
   "cell_type": "code",
   "execution_count": 16,
   "metadata": {},
   "outputs": [
    {
     "name": "stdout",
     "output_type": "stream",
     "text": [
      "ACTTCAGT\n",
      "[[1. 0. 0. 0. 0. 1. 0. 0.]\n",
      " [0. 1. 0. 0. 1. 0. 0. 0.]\n",
      " [0. 0. 0. 0. 0. 0. 1. 0.]\n",
      " [0. 0. 1. 1. 0. 0. 0. 1.]]\n"
     ]
    }
   ],
   "source": [
    "test_alignment = 'ACTTCAGT'\n",
    "test_node = list(trees[0].leaf_nodes())[0]  # Pick first leaf\n",
    "        \n",
    "node_probs = {}  # store the probabilities for all nodes\n",
    "node_probs = set_nucleotide_probs(test_node, node_probs, test_alignment)\n",
    "\n",
    "print(test_alignment)\n",
    "print(node_probs[test_node])"
   ]
  },
  {
   "cell_type": "markdown",
   "metadata": {},
   "source": [
    "The output is the matrix, were the first row correspond to A, second to C, third to G and fourth to T and each column correspond to the position in the alignment."
   ]
  },
  {
   "cell_type": "markdown",
   "metadata": {},
   "source": [
    "Next we can create a wrapper function that does this for all leaf nodes in the tree."
   ]
  },
  {
   "cell_type": "code",
   "execution_count": 51,
   "metadata": {},
   "outputs": [],
   "source": [
    "def set_terminal_probs(tree, node_probs, alignment):\n",
    "    \"\"\"\n",
    "    Loop over terminal nodes and set fixed probabilities.\n",
    "    \n",
    "    Parameters:\n",
    "    tree - tree data structure\n",
    "    node_probs - dict to store probabilities\n",
    "    alignment - alignment dict\n",
    "    \"\"\"\n",
    "    for node in tree.levelorder_node_iter():\n",
    "        if node.is_leaf():\n",
    "            seq = alignment[str(node.taxon).replace(\"'\", \"\")]\n",
    "            node_probs = set_nucleotide_probs(node, node_probs, seq)\n",
    "            \n",
    "    return node_probs"
   ]
  },
  {
   "cell_type": "markdown",
   "metadata": {},
   "source": [
    "Now we can see how the probabilities are set for each leaf node in the tree."
   ]
  },
  {
   "cell_type": "code",
   "execution_count": 18,
   "metadata": {},
   "outputs": [
    {
     "name": "stdout",
     "output_type": "stream",
     "text": [
      "Node: 'A'\n",
      "Alignment: ACTGGA\n",
      "Pobability matrix\n",
      "[[1. 0. 0. 0. 0. 1.]\n",
      " [0. 1. 0. 0. 0. 0.]\n",
      " [0. 0. 0. 1. 1. 0.]\n",
      " [0. 0. 1. 0. 0. 0.]]\n",
      "\n",
      "\n",
      "Node: 'B'\n",
      "Alignment: ACTTGA\n",
      "Pobability matrix\n",
      "[[1. 0. 0. 0. 0. 1.]\n",
      " [0. 1. 0. 0. 0. 0.]\n",
      " [0. 0. 0. 0. 1. 0.]\n",
      " [0. 0. 1. 1. 0. 0.]]\n",
      "\n",
      "\n",
      "Node: 'D'\n",
      "Alignment: ACTGGC\n",
      "Pobability matrix\n",
      "[[1. 0. 0. 0. 0. 0.]\n",
      " [0. 1. 0. 0. 0. 1.]\n",
      " [0. 0. 0. 1. 1. 0.]\n",
      " [0. 0. 1. 0. 0. 0.]]\n",
      "\n",
      "\n",
      "Node: 'C'\n",
      "Alignment: ATTGGC\n",
      "Pobability matrix\n",
      "[[1. 0. 0. 0. 0. 0.]\n",
      " [0. 0. 0. 0. 0. 1.]\n",
      " [0. 0. 0. 1. 1. 0.]\n",
      " [0. 1. 1. 0. 0. 0.]]\n",
      "\n",
      "\n"
     ]
    }
   ],
   "source": [
    "test_alignment = {\"A\": \"ACTGGA\", \"B\": \"ACTTGA\", \"C\": \"ATTGGC\", \"D\":\"ACTGGC\"}\n",
    "node_probs = {}\n",
    "node_probs = set_terminal_probs(tree, node_probs, test_alignment)\n",
    "\n",
    "for node in node_probs.keys():\n",
    "    print('Node: ' + str(node.taxon))\n",
    "    print('Alignment: ' + test_alignment[str(node.taxon).replace(\"'\", \"\")])\n",
    "    print('Pobability matrix')\n",
    "    print(node_probs[node])\n",
    "    print('\\n')"
   ]
  },
  {
   "cell_type": "markdown",
   "metadata": {},
   "source": [
    "To calculate the likelihood for the tree we must find the likelihood in the most ancestral state of the tree. However, since we assume a time-reversible model, the probability going from state 1 to state 2 is the same as moving from state 2 to 1, any internal node can be choosen to be the root. When we first created the trees, the first node was automatically set to be the root for the tree structure, so we continoue to use that node as the most ancestral state.\n",
    "\n",
    "The likelihood for the tree is found by starting from the leaves and compute the joint probability to observe a nucleotide in the ancestral node. This process is continued until we reach the root of the tree. The next function calculate this joint probabilities for a node."
   ]
  },
  {
   "cell_type": "code",
   "execution_count": 90,
   "metadata": {},
   "outputs": [],
   "source": [
    "def calculate_nucleotide_probs(node, node_probs, alignment_length):\n",
    "    # Determine if the given node is the root,\n",
    "    # this is assumed to have 3 childs.\n",
    "    if node.level() == 0:\n",
    "        root = True\n",
    "    else:\n",
    "        root = False\n",
    "    nucl_prob = np.zeros((4, alignment_length))  # Set up an empty matrix to store probabilities\n",
    "    child = list(node.child_nodes())\n",
    "    for index in range(alignment_length):  # Loop over the sites in the alignment\n",
    "        for s, nucl_node in enumerate(['A', 'C', 'G', 'T']):  # Loop over the possible nucl in the node\n",
    "            if root:  # only used for root node\n",
    "                center_prob = 0\n",
    "            right_prob = 0\n",
    "            left_prob = 0\n",
    "            for x, nucl_children in enumerate(['A', 'C', 'G', 'T']):  # Loop over the possible nucl in the child nodes\n",
    "                if nucl_node == nucl_children:\n",
    "                    # If no mutation, multiply the probability for no mutation to the probabiliyt for that nucl\n",
    "                    # in the child node.\n",
    "                    right_prob += prob_no_mutation_jc(child[0].edge_length) * node_probs[child[0]][x, index]\n",
    "                    left_prob += prob_no_mutation_jc(child[1].edge_length) * node_probs[child[1]][x, index]\n",
    "                    if root:\n",
    "                        center_prob += prob_no_mutation_jc(child[2].edge_length) * node_probs[child[2]][x, index]\n",
    "                else:\n",
    "                    # Same as above, but this time, we observe a mutation.\n",
    "                    right_prob += prob_mutation_jc(child[0].edge_length) * node_probs[child[0]][x, index]\n",
    "                    left_prob += prob_mutation_jc(child[1].edge_length) * node_probs[child[1]][x, index]\n",
    "                    if root:\n",
    "                        center_prob += prob_mutation_jc(child[2].edge_length) * node_probs[child[2]][x, index]\n",
    "            # Finally, calculate the probability to observe nucl s in the give node.\n",
    "            if root:                 \n",
    "                nucl_prob[s, index] = right_prob * left_prob * center_prob\n",
    "            else:\n",
    "                nucl_prob[s, index] = right_prob * left_prob\n",
    "    \n",
    "    # Store all calculated probabilities\n",
    "    node_probs[node] = nucl_prob\n",
    "\n",
    "    return node_probs"
   ]
  },
  {
   "cell_type": "markdown",
   "metadata": {},
   "source": [
    "We can now calculate the likelihood for each node by recursively traversing over the tree from leaves to root, this is illustrated by using a simple alignment fo four sequences with one position."
   ]
  },
  {
   "cell_type": "code",
   "execution_count": 35,
   "metadata": {},
   "outputs": [
    {
     "name": "stdout",
     "output_type": "stream",
     "text": [
      "<Node object at 0x1a1b888940: 'None' (None)>\n"
     ]
    },
    {
     "data": {
      "image/png": "[encoded data removed]",
      "text/plain": [
       "<Figure size 432x288 with 1 Axes>"
      ]
     },
     "metadata": {},
     "output_type": "display_data"
    },
    {
     "name": "stdout",
     "output_type": "stream",
     "text": [
      "<Node object at 0x1a1b888b38: 'None' (None)>\n"
     ]
    },
    {
     "data": {
      "image/png": "[encoded data removed]",
      "text/plain": [
       "<Figure size 432x288 with 1 Axes>"
      ]
     },
     "metadata": {},
     "output_type": "display_data"
    }
   ],
   "source": [
    "test_alignment = {\"A\": \"CGG\", \"B\": \"CAG\", \"C\": \"CGA\", \"D\":\"GGA\"}\n",
    "node_probs = {}\n",
    "node_probs = set_terminal_probs(trees[0], node_probs, test_alignment)\n",
    "for node in trees[0].postorder_node_iter():\n",
    "    if not node.is_leaf():\n",
    "        print(node)\n",
    "        node_probs = calculate_nucleotide_probs(node, node_probs, 3)\n",
    "        plot_rooted_tree(trees[0], node_probs)"
   ]
  },
  {
   "cell_type": "markdown",
   "metadata": {},
   "source": [
    "We also create a wrapper function for doing this on every node on the tree, similar to the code block above."
   ]
  },
  {
   "cell_type": "code",
   "execution_count": 49,
   "metadata": {},
   "outputs": [],
   "source": [
    "def set_inner_probs(tree, node_probs, alignment_length):\n",
    "    for node in tree.postorder_node_iter():\n",
    "        if not node.is_leaf():\n",
    "            node_probs = calculate_nucleotide_probs(node, node_probs, alignment_length)\n",
    "        #if node_probs_bool[node] == False:\n",
    "            #node_probs_bool[node] = True\n",
    "            \n",
    "    return node_probs"
   ]
  },
  {
   "cell_type": "markdown",
   "metadata": {},
   "source": [
    "To find the likelihood for the entire tree we sum over columns in the root and mutliply by the . Next, to find the likelihood for the tree we have to multiply the sum of likelihoods for each site. However, this means that we will multiply many small numbers and this can lead to something called underflow, where the computer is no longer able to represent the number in the memory. Instead of doing the multiplication we switch to log-likelihoods and sum the site likelihoods."
   ]
  },
  {
   "cell_type": "code",
   "execution_count": 39,
   "metadata": {},
   "outputs": [
    {
     "name": "stdout",
     "output_type": "stream",
     "text": [
      "[-5.20904117 -5.20904117 -7.88268067]\n",
      "-18.30076301976183\n"
     ]
    }
   ],
   "source": [
    "column_log_likelihood = 0.25 * node_probs[trees[0].seed_node].sum(axis=0)\n",
    "tree_log_likelihood = np.sum(np.log(column_log_likelihood))\n",
    "print(column_log_likelihood)\n",
    "print(tree_log_likelihood)"
   ]
  },
  {
   "cell_type": "markdown",
   "metadata": {},
   "source": [
    "One parameter that we need to pass to these functions are the length of the alignment. The function below is a quick way to check that all sequences in the alignment are of the same length and returning the length of the alignment."
   ]
  },
  {
   "cell_type": "code",
   "execution_count": 116,
   "metadata": {},
   "outputs": [],
   "source": [
    "def get_alignment_length(alignment):\n",
    "    seq_lengths = [len(seq) for taxa, seq in alignment.items()]\n",
    "    if len(set(seq_lengths)) == 1:\n",
    "        return seq_lengths[0]\n",
    "    else:\n",
    "        print('All sequence in the alignment is not of equal length')\n",
    "        return False"
   ]
  },
  {
   "cell_type": "markdown",
   "metadata": {},
   "source": [
    "We can test the function by creating a test alignment with two sequences with alignments of length 5."
   ]
  },
  {
   "cell_type": "code",
   "execution_count": 129,
   "metadata": {},
   "outputs": [
    {
     "name": "stdout",
     "output_type": "stream",
     "text": [
      "5\n"
     ]
    }
   ],
   "source": [
    "test_alignment = {\"A\":\"ACTTG\", \"B\":\"ACTTC\"} \n",
    "print(get_alignment_length(test_alignment))"
   ]
  },
  {
   "cell_type": "markdown",
   "metadata": {},
   "source": [
    "Now we have come to the final step before we can combine all steps together. This is the optimization of the branch lengths. For this we will use the Brent's method included in the scipy-package. We define a wrapper function that updates the branch length and update the log likelihood of the tree and this is the function we want to maximize.\n",
    "When we have found the branch length that maximize we return the updated likelihoods."
   ]
  },
  {
   "cell_type": "code",
   "execution_count": 66,
   "metadata": {},
   "outputs": [],
   "source": [
    "def optimize_length(node, node_probs, aln_length, tree):\n",
    "    optimize.fminbound(wrapper, 0, 2, xtol=0.01, args=(node_probs, aln_length, tree))\n",
    "    node_probs  = set_inner_probs(tree, node_probs, aln_length)\n",
    "    return node_probs"
   ]
  },
  {
   "cell_type": "code",
   "execution_count": 132,
   "metadata": {},
   "outputs": [],
   "source": [
    "def wrapper(node_length, node_probs, aln_length, tree):\n",
    "    node.edge_length = node_length\n",
    "    tmp_node_probs = set_inner_probs(tree, node_probs, aln_length)\n",
    "    tree_likelihood = -1 *np.sum(np.log(0.25 * tmp_node_probs[tree.seed_node].sum(axis=0)))\n",
    "    \n",
    "    return tree_likelihood"
   ]
  },
  {
   "cell_type": "markdown",
   "metadata": {},
   "source": [
    "And here is the function that loops over the nodes that we want to update the branch length for. Changing the branch length of one node can affect what's the best branch length for a sibling node, so after we have update one node, we rerun the optimization on all previous nodes we visit."
   ]
  },
  {
   "cell_type": "code",
   "execution_count": null,
   "metadata": {},
   "outputs": [],
   "source": [
    "def branch_optimization(nodes, node_probs, aln_length, tree):\n",
    "    for j, node in enumerate(nodes):\n",
    "        node_probs = optimize_length(node, node_probs, aln_length, tree)\n",
    "        for prev_node in nodes[:j-1]:\n",
    "            node_probs = optimize_length(node, node_probs, aln_length, tree)\n",
    "    \n",
    "    return node_probs"
   ]
  },
  {
   "cell_type": "markdown",
   "metadata": {},
   "source": [
    "Now we can combine all the steps together. We first read the alignment and check that all sequences are of equal length. We pass the list of the taxa to the function that generate all possible trees. For each tree, we assign the likelihoods, first to the leaf-nodes and then to the internal nodes and calculate the log-likelihood for the tree. After this we do one round of branch lenght optimization and calculate a new log-likelihood. Following this we continue to do branch length optimization until we reach convergence or the maximum number of optimization rounds we want to run."
   ]
  },
  {
   "cell_type": "code",
   "execution_count": 258,
   "metadata": {},
   "outputs": [
    {
     "name": "stdout",
     "output_type": "stream",
     "text": [
      "{'>ENA|CAA24095|CAA24095.1': 'ATGGTGCTCTCTGGGGAAGA', '>ENA|BAA20512|BAA20512.1': 'ATGAGTCTCTCTGATAAGGA', '>ENA|CAA23748|CAA23748.1': 'ATGGTGCTGTCTCCTGCCGA', '>ENA|CAB56829|CAB56829.1': 'ATGGTGCTGTCTGCCGCCGA', '>ENA|CAA28435|CAA28435.1': 'ATGTCTCTGACCAGGACTGA'}\n",
      "0\n",
      "-111.91155661304522\n",
      "-100.54300000304218\n",
      "1\n",
      "-100.24522864447586\n",
      "-100.54300000304218\n",
      "2\n",
      "-100.23839825312216\n",
      "-100.24522864447586\n",
      "Tree 1\n",
      "Opt-rounds: 3\n",
      "Non-optimal:-111.91155661304522\n",
      "Optimal:-100.23839825312216\n",
      "0\n",
      "-118.29787031853016\n",
      "-104.36288321892242\n",
      "1\n",
      "-101.5278348036296\n",
      "-104.36288321892242\n",
      "2\n",
      "-101.29681123984875\n",
      "-101.5278348036296\n",
      "3\n",
      "-101.26168548526319\n",
      "-101.29681123984875\n",
      "4\n",
      "-101.25121341532629\n",
      "-101.26168548526319\n",
      "Tree 2\n",
      "Opt-rounds: 6\n",
      "Non-optimal:-118.29787031853016\n",
      "Optimal:-101.25121341532629\n",
      "0\n",
      "-117.88831044751761\n",
      "-101.56856832990745\n",
      "1\n",
      "-101.24517642496679\n",
      "-101.56856832990745\n",
      "2\n",
      "-101.22001272996086\n",
      "-101.24517642496679\n",
      "3\n",
      "-101.21677355690939\n",
      "-101.22001272996086\n",
      "4\n",
      "-101.21993124124715\n",
      "-101.21677355690939\n",
      "Tree 3\n",
      "Opt-rounds: 6\n",
      "Non-optimal:-117.88831044751761\n",
      "Optimal:-101.21677355690939\n",
      "0\n",
      "-115.62392437825095\n",
      "-100.66208610708372\n",
      "1\n",
      "-100.61056466246897\n",
      "-100.66208610708372\n",
      "2\n",
      "-100.603002097856\n",
      "-100.61056466246897\n",
      "Tree 4\n",
      "Opt-rounds: 3\n",
      "Non-optimal:-115.62392437825095\n",
      "Optimal:-100.603002097856\n",
      "0\n",
      "-118.16400368663462\n",
      "-102.01164315411178\n",
      "1\n",
      "-101.25474945016\n",
      "-102.01164315411178\n",
      "2\n",
      "-101.21872606924785\n",
      "-101.25474945016\n",
      "3\n",
      "-101.22689111617923\n",
      "-101.21872606924785\n",
      "4\n",
      "-101.2198888249687\n",
      "-101.21872606924785\n",
      "Tree 5\n",
      "Opt-rounds: 6\n",
      "Non-optimal:-118.16400368663462\n",
      "Optimal:-101.21872606924785\n",
      "0\n",
      "-119.20798972798879\n",
      "-102.24832386270202\n",
      "1\n",
      "-101.55005726474838\n",
      "-102.24832386270202\n",
      "2\n",
      "-101.36741243538795\n",
      "-101.55005726474838\n",
      "3\n",
      "-101.34672586322375\n",
      "-101.36741243538795\n",
      "Tree 6\n",
      "Opt-rounds: 4\n",
      "Non-optimal:-119.20798972798879\n",
      "Optimal:-101.34672586322375\n",
      "0\n",
      "-116.49259813333431\n",
      "-101.00102601118357\n",
      "1\n",
      "-100.7771196919443\n",
      "-101.00102601118357\n",
      "2\n",
      "-100.75346841937709\n",
      "-100.7771196919443\n",
      "3\n",
      "-100.76011057477925\n",
      "-100.75346841937709\n",
      "4\n",
      "-100.7524266503561\n",
      "-100.75346841937709\n",
      "Tree 7\n",
      "Opt-rounds: 6\n",
      "Non-optimal:-116.49259813333431\n",
      "Optimal:-100.7524266503561\n",
      "0\n",
      "-119.98819787330889\n",
      "-102.91500754192077\n",
      "1\n",
      "-101.48161195622374\n",
      "-102.91500754192077\n",
      "2\n",
      "-101.4111345395427\n",
      "-101.48161195622374\n",
      "3\n",
      "-101.40395149325533\n",
      "-101.4111345395427\n",
      "4\n",
      "-101.40769755537804\n",
      "-101.40395149325533\n",
      "Tree 8\n",
      "Opt-rounds: 6\n",
      "Non-optimal:-119.98819787330889\n",
      "Optimal:-101.40395149325533\n",
      "0\n",
      "-112.56314117190347\n",
      "-100.74316482757435\n",
      "1\n",
      "-100.37973267877166\n",
      "-100.74316482757435\n",
      "2\n",
      "-100.36800908685015\n",
      "-100.37973267877166\n",
      "3\n",
      "-100.36939208863879\n",
      "-100.36800908685015\n",
      "4\n",
      "-100.36948269700365\n",
      "-100.36800908685015\n",
      "Tree 9\n",
      "Opt-rounds: 6\n",
      "Non-optimal:-112.56314117190347\n",
      "Optimal:-100.36800908685015\n",
      "0\n",
      "-119.35377170296725\n",
      "-104.28599236479022\n",
      "1\n",
      "-101.36530137440043\n",
      "-104.28599236479022\n",
      "2\n",
      "-101.36105014154035\n",
      "-101.36530137440043\n",
      "3\n",
      "-101.36000842215749\n",
      "-101.36105014154035\n",
      "Tree 10\n",
      "Opt-rounds: 4\n",
      "Non-optimal:-119.35377170296725\n",
      "Optimal:-101.36000842215749\n",
      "0\n",
      "-111.98915408456189\n",
      "-100.37651413483188\n",
      "1\n",
      "-99.19957542366278\n",
      "-100.37651413483188\n",
      "2\n",
      "-98.88697328864949\n",
      "-99.19957542366278\n",
      "3\n",
      "-98.75596069442852\n",
      "-98.88697328864949\n",
      "4\n",
      "-98.71366841258764\n",
      "-98.75596069442852\n",
      "Tree 11\n",
      "Opt-rounds: 5\n",
      "Non-optimal:-111.98915408456189\n",
      "Optimal:-98.71366841258764\n",
      "0\n",
      "-107.73860286188177\n",
      "-98.53104077194419\n",
      "1\n",
      "-97.95007147184802\n",
      "-98.53104077194419\n",
      "2\n",
      "-97.90215533270123\n",
      "-97.95007147184802\n",
      "3\n",
      "-97.9009799501958\n",
      "-97.90215533270123\n",
      "Tree 12\n",
      "Opt-rounds: 4\n",
      "Non-optimal:-107.73860286188177\n",
      "Optimal:-97.9009799501958\n",
      "0\n",
      "-109.57471239163898\n",
      "-99.90697673813328\n",
      "1\n",
      "-98.15039272800726\n",
      "-99.90697673813328\n",
      "2\n",
      "-98.06206786142587\n",
      "-98.15039272800726\n",
      "3\n",
      "-98.055116085692\n",
      "-98.06206786142587\n",
      "Tree 13\n",
      "Opt-rounds: 4\n",
      "Non-optimal:-109.57471239163898\n",
      "Optimal:-98.055116085692\n",
      "0\n",
      "-113.61904255634057\n",
      "-99.09755223792635\n",
      "1\n",
      "-98.7366112877795\n",
      "-99.09755223792635\n",
      "2\n",
      "-98.66765916517728\n",
      "-98.7366112877795\n",
      "3\n",
      "-98.64720193965731\n",
      "-98.66765916517728\n",
      "4\n",
      "-98.6442894800343\n",
      "-98.64720193965731\n",
      "Tree 14\n",
      "Opt-rounds: 5\n",
      "Non-optimal:-113.61904255634057\n",
      "Optimal:-98.6442894800343\n",
      "0\n",
      "-114.02335938191942\n",
      "-99.34091457517404\n",
      "1\n",
      "-98.81288492206627\n",
      "-99.34091457517404\n",
      "2\n",
      "-98.76153235568472\n",
      "-98.81288492206627\n",
      "3\n",
      "-98.71431145370924\n",
      "-98.76153235568472\n",
      "4\n",
      "-98.69565972749652\n",
      "-98.71431145370924\n",
      "Tree 15\n",
      "Opt-rounds: 5\n",
      "Non-optimal:-114.02335938191942\n",
      "Optimal:-98.69565972749652\n"
     ]
    }
   ],
   "source": [
    "# Warning, very slow step. We can make it faster by changing the 'full' to\n",
    "# an integer n to include only first n bases of the alignment\n",
    "#alignment = {\"A\":'ATGGGTAAGATTG', \"B\":'ATGGCTAAGAGTT', \"C\":'ATGCGTTAGAGTT', \"D\":'ATGCGTTAGTTTG', \"E\": 'ATGGCTAAGATAT', \"F\": 'ATGTTTAAGATAT'}\n",
    "alignment = read_msa('./data/alpha_globin_full.fasta', 20)\n",
    "print(alignment)\n",
    "aln_length = get_alignment_length(alignment)\n",
    "taxon = [taxa for taxa in alignment.keys()]\n",
    "\n",
    "\n",
    "\n",
    "# Create all trees\n",
    "tree_list = create_all_trees(taxons=taxon)\n",
    "\n",
    "# Optimize branch lengths\n",
    "epsilon = 0.001  \n",
    "max_opt_iterations = 5 \n",
    "starting_tree_scores = []\n",
    "best_trees = []  # store tree with optimized branch lengths\n",
    "best_tree_scores = []  # store the score for tree with optimized branch lengths\n",
    "\n",
    "\n",
    "for i in range(len(tree_list)):\n",
    "    \n",
    "    tree = tree_list[i].extract_tree()\n",
    "    \n",
    "    # First set the observed likelihoods\n",
    "    node_probs = {}\n",
    "    node_probs = set_terminal_probs(tree, node_probs, alignment)\n",
    "    \n",
    "    # Set likelihoods in the internal nodes\n",
    "    node_probs = set_inner_probs(tree, node_probs, aln_length)\n",
    "    \n",
    "    # Calulate log-likelihood for tree without branch length optimizations\n",
    "    log_likelihoods = np.sum(np.log(0.25 * node_probs[tree.seed_node].sum(axis=0)))\n",
    "    starting_tree_scores.append(log_likelihoods)\n",
    "    prev_likelihoods = log_likelihoods\n",
    "    \n",
    "    # Extract nodes for branch optimizatoins,\n",
    "    # we don't want optimize the root since it doesn't have any parent node.\n",
    "    nodes = list(tree.postorder_node_iter())\n",
    "    nodes = [n for n in nodes if n != tree.seed_node]\n",
    "    \n",
    "    # First round of branch optimization\n",
    "    for j, node in enumerate(nodes):\n",
    "        node_probs = optimize_length(node, node_probs, aln_length, tree)\n",
    "        for prev_node in nodes[:j-1]:\n",
    "            node_probs = optimize_length(node, node_probs, aln_length, tree)\n",
    "    best_likelihoods = np.sum(np.log(0.25 * node_probs[tree.seed_node].sum(axis=0)))\n",
    "    \n",
    "    opt_counter = 0  # count optimization rounds\n",
    "    best_tree = None\n",
    "    \n",
    "    # Continue branch optimization until likelihood converge or max optimization rounds are reached\n",
    "    while opt_counter < max_opt_iterations:\n",
    "        print(opt_counter)\n",
    "        print(prev_likelihoods)\n",
    "        print(best_likelihoods)\n",
    "        \n",
    "        # Set new best tree\n",
    "        if prev_likelihoods > best_likelihoods:  \n",
    "            best_likelihoods = prev_likelihoods\n",
    "            best_tree = tree.extract_tree()\n",
    "            \n",
    "        # Optimize branch length\n",
    "        for j, node in enumerate(nodes):\n",
    "            node_probs = optimize_length(node, node_probs, aln_length, tree)\n",
    "            for prev_node in nodes[:j-1]:\n",
    "                node_probs = optimize_length(node, node_probs, aln_length, tree)\n",
    "        \n",
    "        # log-likelihoods for new branch lengths\n",
    "        prev_likelihoods = np.sum(np.log(0.25 * node_probs[tree.seed_node].sum(axis=0)))\n",
    "        \n",
    "        # Check for convergence\n",
    "        if abs(prev_likelihoods - best_likelihoods) < epsilon:\n",
    "            break\n",
    "        opt_counter += 1\n",
    "    \n",
    "    print('Tree ' + str(i + 1))\n",
    "    print('Opt-rounds: ' + str(opt_counter + 1))\n",
    "    print('Non-optimal:' + str(log_likelihoods))\n",
    "    print('Optimal:' + str(best_likelihoods))\n",
    "        \n",
    "    best_trees.append(best_tree)\n",
    "    best_tree_scores.append(best_likelihoods)\n",
    "    "
   ]
  },
  {
   "cell_type": "code",
   "execution_count": 259,
   "metadata": {},
   "outputs": [],
   "source": [
    "def write_trees(path, trees):\n",
    "    f = open(output, 'w')\n",
    "    for tree in trees:\n",
    "        f.write(str(tree) + ';\\n')\n",
    "    f.close()"
   ]
  },
  {
   "cell_type": "code",
   "execution_count": 269,
   "metadata": {},
   "outputs": [],
   "source": [
    "def write_msa(path, alignment):\n",
    "    with open(path, 'w') as f:\n",
    "        for k in alignment.keys():\n",
    "            f.write(k + '\\n')\n",
    "            f.write(alignment[k] + '\\n')"
   ]
  },
  {
   "cell_type": "code",
   "execution_count": 272,
   "metadata": {},
   "outputs": [],
   "source": [
    "output_msa = './data/used_alignment.msa'\n",
    "write_msa(output_msa, alignment)"
   ]
  },
  {
   "cell_type": "code",
   "execution_count": 273,
   "metadata": {},
   "outputs": [
    {
     "name": "stdout",
     "output_type": "stream",
     "text": [
      "[-100.23839825312216, -101.25121341532629, -101.21677355690939, -100.603002097856, -101.21872606924785, -101.34672586322375, -100.7524266503561, -101.40395149325533, -100.36800908685015, -101.36000842215749, -98.71366841258764, -97.9009799501958, -98.055116085692, -98.6442894800343, -98.69565972749652]\n",
      "-97.9009799501958\n",
      "[<Tree object at 0x1a1bc87198>, <Tree object at 0x1a1c30e6a0>, <Tree object at 0x1a1bfb7320>, <Tree object at 0x1a1bdfa358>, <Tree object at 0x1a1c1974a8>, <Tree object at 0x1a1bdfb6a0>, <Tree object at 0x1a1c5e4a58>, <Tree object at 0x1a1bfacb70>, <Tree object at 0x1a1c73a5c0>, <Tree object at 0x1a1b850c50>, <Tree object at 0x1a1bc9a208>, <Tree object at 0x1a1bedfba8>, <Tree object at 0x1a1bedfe80>, <Tree object at 0x1a1bfd0630>, <Tree object at 0x1a1bfd0b00>]\n",
      "((>ENA|CAA23748|CAA23748.1:0.10388076747058253,>ENA|CAB56829|CAB56829.1:0.004797285301853457):0.2985985823344534,>ENA|CAA24095|CAA24095.1:0.004797285301853457,(>ENA|BAA20512|BAA20512.1:0.24733768249488733,>ENA|CAA28435|CAA28435.1:0.6110024464896221):0.2327346406650024)\n"
     ]
    }
   ],
   "source": [
    "print(best_tree_scores)\n",
    "(m,i) = max((v,i) for i,v in enumerate(best_tree_scores))\n",
    "print(m)\n",
    "print(best_trees)\n",
    "print(best_trees[i])\n",
    "best_trees_output = './data/best_trees.tree'\n",
    "write_trees(best_trees_output, best_trees)\n",
    "\n",
    "starting_trees_output = './data/starting_trees.tree'\n",
    "write_trees(starting_trees_output, tree_list)"
   ]
  },
  {
   "cell_type": "markdown",
   "metadata": {},
   "source": [
    "How good are theese results. We can compare our trees to what a state of art software like RAxML would produce. To run the following conde RAxML must be installed on your system, you can downloaded the software from [here].  We can first write our starting trees to a file and then we can use the evaluate function in RAxML to see what log-likelihood values they calculate for the trees and how well they can optimize the branch lengths. To get the results we grep the lines from the logging file."
   ]
  },
  {
   "cell_type": "code",
   "execution_count": 285,
   "metadata": {},
   "outputs": [
    {
     "name": "stdout",
     "output_type": "stream",
     "text": [
      ">ENA|CAA24095|CAA24095.1\n",
      "ATGGTGCTCTCTGGGGAAGA\n",
      ">ENA|BAA20512|BAA20512.1\n",
      "ATGAGTCTCTCTGATAAGGA\n",
      ">ENA|CAA23748|CAA23748.1\n",
      "ATGGTGCTGTCTCCTGCCGA\n",
      ">ENA|CAB56829|CAB56829.1\n",
      "ATGGTGCTGTCTGCCGCCGA\n",
      ">ENA|CAA28435|CAA28435.1\n",
      "ATGTCTCTGACCAGGACTGA\n",
      "(ENA|CAA23748|CAA23748.1:0.1,(ENA|CAA24095|CAA24095.1:0.1,ENA|CAB56829|CAB56829.1:0.1):0.1,(ENA|BAA20512|BAA20512.1:0.1,ENA|CAA28435|CAA28435.1:0.1):0.1);\n",
      "((ENA|CAA24095|CAA24095.1:0.1,ENA|CAB56829|CAB56829.1:0.1):0.1,ENA|BAA20512|BAA20512.1:0.1,(ENA|CAA23748|CAA23748.1:0.1,ENA|CAA28435|CAA28435.1:0.1):0.1);\n",
      "(ENA|BAA20512|BAA20512.1:0.1,ENA|CAA23748|CAA23748.1:0.1,((ENA|CAA24095|CAA24095.1:0.1,ENA|CAB56829|CAB56829.1:0.1):0.1,ENA|CAA28435|CAA28435.1:0.1):0.1);\n",
      "(ENA|BAA20512|BAA20512.1:0.1,ENA|CAA23748|CAA23748.1:0.1,(ENA|CAB56829|CAB56829.1:0.1,(ENA|CAA24095|CAA24095.1:0.1,ENA|CAA28435|CAA28435.1:0.1):0.1):0.1);\n",
      "(ENA|BAA20512|BAA20512.1:0.1,ENA|CAA23748|CAA23748.1:0.1,(ENA|CAA24095|CAA24095.1:0.1,(ENA|CAB56829|CAB56829.1:0.1,ENA|CAA28435|CAA28435.1:0.1):0.1):0.1);\n",
      "(ENA|CAA24095|CAA24095.1:0.1,(ENA|BAA20512|BAA20512.1:0.1,ENA|CAB56829|CAB56829.1:0.1):0.1,(ENA|CAA23748|CAA23748.1:0.1,ENA|CAA28435|CAA28435.1:0.1):0.1);\n",
      "((ENA|BAA20512|BAA20512.1:0.1,ENA|CAB56829|CAB56829.1:0.1):0.1,ENA|CAA23748|CAA23748.1:0.1,(ENA|CAA24095|CAA24095.1:0.1,ENA|CAA28435|CAA28435.1:0.1):0.1);\n",
      "(ENA|CAA23748|CAA23748.1:0.1,ENA|CAA24095|CAA24095.1:0.1,((ENA|BAA20512|BAA20512.1:0.1,ENA|CAB56829|CAB56829.1:0.1):0.1,ENA|CAA28435|CAA28435.1:0.1):0.1);\n",
      "(ENA|CAA23748|CAA23748.1:0.1,ENA|CAA24095|CAA24095.1:0.1,(ENA|CAB56829|CAB56829.1:0.1,(ENA|BAA20512|BAA20512.1:0.1,ENA|CAA28435|CAA28435.1:0.1):0.1):0.1);\n",
      "(ENA|CAA23748|CAA23748.1:0.1,ENA|CAA24095|CAA24095.1:0.1,(ENA|BAA20512|BAA20512.1:0.1,(ENA|CAB56829|CAB56829.1:0.1,ENA|CAA28435|CAA28435.1:0.1):0.1):0.1);\n",
      "(ENA|BAA20512|BAA20512.1:0.1,(ENA|CAA23748|CAA23748.1:0.1,ENA|CAB56829|CAB56829.1:0.1):0.1,(ENA|CAA24095|CAA24095.1:0.1,ENA|CAA28435|CAA28435.1:0.1):0.1);\n",
      "((ENA|CAA23748|CAA23748.1:0.1,ENA|CAB56829|CAB56829.1:0.1):0.1,ENA|CAA24095|CAA24095.1:0.1,(ENA|BAA20512|BAA20512.1:0.1,ENA|CAA28435|CAA28435.1:0.1):0.1);\n",
      "(ENA|CAA24095|CAA24095.1:0.1,ENA|BAA20512|BAA20512.1:0.1,((ENA|CAA23748|CAA23748.1:0.1,ENA|CAB56829|CAB56829.1:0.1):0.1,ENA|CAA28435|CAA28435.1:0.1):0.1);\n",
      "(ENA|CAA24095|CAA24095.1:0.1,ENA|BAA20512|BAA20512.1:0.1,(ENA|CAB56829|CAB56829.1:0.1,(ENA|CAA23748|CAA23748.1:0.1,ENA|CAA28435|CAA28435.1:0.1):0.1):0.1);\n",
      "(ENA|CAA24095|CAA24095.1:0.1,ENA|BAA20512|BAA20512.1:0.1,(ENA|CAA23748|CAA23748.1:0.1,(ENA|CAB56829|CAB56829.1:0.1,ENA|CAA28435|CAA28435.1:0.1):0.1):0.1);\n",
      "\n",
      "RAxML-NG v. 0.8.1 BETA released on 05.03.2019 by The Exelixis Lab.\n",
      "Authors: Alexey Kozlov, Alexandros Stamatakis, Diego Darriba, Tomas Flouri, Benoit Morel.\n",
      "Latest version: https://github.com/amkozlov/raxml-ng\n",
      "Questions/problems/suggestions? Please visit: https://groups.google.com/forum/#!forum/raxml\n",
      "\n",
      "WARNING: This is a BETA release, please use at your own risk!\n",
      "\n",
      "RAxML-NG was called at 13-Mar-2019 08:47:06 as follows:\n",
      "\n",
      "./data/raxml-ng --evaluate --msa ./data/used_alignment.msa --model JC --prefix ./data/compare --threads 2 --tree ./data/starting_trees_edit.tree --redo\n",
      "\n",
      "Analysis options:\n",
      "  run mode: Evaluate tree likelihood\n",
      "  start tree(s): user\n",
      "  random seed: 1552463226\n",
      "  tip-inner: OFF\n",
      "  pattern compression: ON\n",
      "  per-rate scalers: OFF\n",
      "  site repeats: ON\n",
      "  branch lengths: proportional (ML estimate, algorithm: NR-FAST)\n",
      "  SIMD kernels: AVX2\n",
      "  parallelization: PTHREADS (2 threads), thread pinning: OFF\n",
      "\n",
      "WARNING: Running in REDO mode: existing checkpoints are ignored, and all result files will be overwritten!\n",
      "\n",
      "[00:00:00] Reading alignment from file: ./data/used_alignment.msa\n",
      "[00:00:00] Loaded alignment with 5 taxa and 20 sites\n",
      "\n",
      "Alignment comprises 1 partitions and 16 patterns\n",
      "\n",
      "Partition 0: noname\n",
      "Model: JC\n",
      "Alignment sites / patterns: 20 / 16\n",
      "Gaps: 0.00 %\n",
      "Invariant sites: 40.00 %\n",
      "\n",
      "\n",
      "NOTE: Binary MSA file created: ./data/compare.raxml.rba\n",
      "\n",
      "\n",
      "WARNING: You might be using too many threads (2) for your alignment with 16 unique patterns.\n",
      "NOTE:    For the optimal throughput, please consider using fewer threads \n",
      "NOTE:    and parallelize across starting trees/bootstrap replicates.\n",
      "NOTE:    As a general rule-of-thumb, please assign at least 200-1000 alignment patterns per thread.\n",
      "\n",
      "[00:00:00] Loading user starting tree(s) from: ./data/starting_trees_edit.tree\n",
      "[00:00:00] Data distribution: max. partitions/sites/weight per thread: 1 / 8 / 32\n",
      "\n",
      "Evaluating 15 trees\n",
      "\n",
      "[00:00:00] Tree #1, initial LogLikelihood: -111.911557\n",
      "\n",
      "[00:00:00 -111.911557] Initial branch length optimization\n",
      "[00:00:00 -100.341665] Model parameter optimization (eps = 0.100000)\n",
      "\n",
      "[00:00:00] Tree #1, final logLikelihood: -100.272273\n",
      "\n",
      "[00:00:00] Tree #2, initial LogLikelihood: -118.297870\n",
      "\n",
      "[00:00:00 -118.297870] Initial branch length optimization\n",
      "[00:00:00 -101.285112] Model parameter optimization (eps = 0.100000)\n",
      "\n",
      "[00:00:00] Tree #2, final logLikelihood: -101.249047\n",
      "\n",
      "[00:00:00] Tree #3, initial LogLikelihood: -117.888310\n",
      "\n",
      "[00:00:00 -117.888310] Initial branch length optimization\n",
      "[00:00:00 -101.272409] Model parameter optimization (eps = 0.100000)\n",
      "\n",
      "[00:00:00] Tree #3, final logLikelihood: -101.200318\n",
      "\n",
      "[00:00:00] Tree #4, initial LogLikelihood: -115.623924\n",
      "\n",
      "[00:00:00 -115.623924] Initial branch length optimization\n",
      "[00:00:00 -100.647857] Model parameter optimization (eps = 0.100000)\n",
      "\n",
      "[00:00:00] Tree #4, final logLikelihood: -100.613309\n",
      "\n",
      "[00:00:00] Tree #5, initial LogLikelihood: -118.164004\n",
      "\n",
      "[00:00:00 -118.164004] Initial branch length optimization\n",
      "[00:00:00 -101.238773] Model parameter optimization (eps = 0.100000)\n",
      "\n",
      "[00:00:00] Tree #5, final logLikelihood: -101.201772\n",
      "\n",
      "[00:00:00] Tree #6, initial LogLikelihood: -119.207990\n",
      "\n",
      "[00:00:00 -119.207990] Initial branch length optimization\n",
      "[00:00:00 -101.304778] Model parameter optimization (eps = 0.100000)\n",
      "\n",
      "[00:00:00] Tree #6, final logLikelihood: -101.289764\n",
      "\n",
      "[00:00:00] Tree #7, initial LogLikelihood: -116.492598\n",
      "\n",
      "[00:00:00 -116.492598] Initial branch length optimization\n",
      "[00:00:00 -100.720401] Model parameter optimization (eps = 0.100000)\n",
      "\n",
      "[00:00:00] Tree #7, final logLikelihood: -100.693672\n",
      "\n",
      "[00:00:00] Tree #8, initial LogLikelihood: -119.988198\n",
      "\n",
      "[00:00:00 -119.988198] Initial branch length optimization\n",
      "[00:00:00 -101.289549] Model parameter optimization (eps = 0.100000)\n",
      "\n",
      "[00:00:00] Tree #8, final logLikelihood: -101.289316\n",
      "\n",
      "[00:00:00] Tree #9, initial LogLikelihood: -112.563141\n",
      "\n",
      "[00:00:00 -112.563141] Initial branch length optimization\n",
      "[00:00:00 -100.342075] Model parameter optimization (eps = 0.100000)\n",
      "\n",
      "[00:00:00] Tree #9, final logLikelihood: -100.309023\n",
      "\n",
      "[00:00:00] Tree #10, initial LogLikelihood: -119.353772\n",
      "\n",
      "[00:00:00 -119.353772] Initial branch length optimization\n",
      "[00:00:00 -101.291014] Model parameter optimization (eps = 0.100000)\n",
      "\n",
      "[00:00:00] Tree #10, final logLikelihood: -101.289306\n",
      "\n",
      "[00:00:00] Tree #11, initial LogLikelihood: -111.989154\n",
      "\n",
      "[00:00:00 -111.989154] Initial branch length optimization\n",
      "[00:00:00 -99.879086] Model parameter optimization (eps = 0.100000)\n",
      "\n",
      "[00:00:00] Tree #11, final logLikelihood: -98.652834\n",
      "\n",
      "[00:00:00] Tree #12, initial LogLikelihood: -107.738603\n",
      "\n",
      "[00:00:00 -107.738603] Initial branch length optimization\n",
      "[00:00:00 -99.040465] Model parameter optimization (eps = 0.100000)\n",
      "\n",
      "[00:00:00] Tree #12, final logLikelihood: -97.844664\n",
      "\n",
      "[00:00:00] Tree #13, initial LogLikelihood: -109.574712\n",
      "\n",
      "[00:00:00 -109.574712] Initial branch length optimization\n",
      "[00:00:00 -98.171230] Model parameter optimization (eps = 0.100000)\n",
      "\n",
      "[00:00:00] Tree #13, final logLikelihood: -98.005942\n",
      "\n",
      "[00:00:00] Tree #14, initial LogLikelihood: -113.619043\n",
      "\n",
      "[00:00:00 -113.619043] Initial branch length optimization\n",
      "[00:00:00 -98.709337] Model parameter optimization (eps = 0.100000)\n",
      "\n",
      "[00:00:00] Tree #14, final logLikelihood: -98.639188\n",
      "\n",
      "[00:00:00] Tree #15, initial LogLikelihood: -114.023359\n",
      "\n",
      "[00:00:00 -114.023359] Initial branch length optimization\n",
      "[00:00:00 -98.770364] Model parameter optimization (eps = 0.100000)\n",
      "\n",
      "[00:00:00] Tree #15, final logLikelihood: -98.691848\n",
      "\n",
      "\n",
      "Optimized model parameters:\n",
      "\n",
      "   Partition 0: noname\n",
      "   Rate heterogeneity: NONE\n",
      "   Base frequencies (model): 0.250000 0.250000 0.250000 0.250000 \n",
      "   Substitution rates (model): 1.000000 1.000000 1.000000 1.000000 1.000000 1.000000 \n",
      "\n",
      "Final LogLikelihood: -97.844664\n",
      "\n",
      "AIC score: 209.689327 / AICc score: 219.022661 / BIC score: 216.659453\n",
      "Free parameters (model + branch lengths): 7\n",
      "\n",
      "Best ML tree saved to: /Users/emiha442/Documents/Work/Courses/algorithms_in_bioinformatics/phylogenetic_tree_reconstruction/data/compare.raxml.bestTree\n",
      "All ML trees saved to: /Users/emiha442/Documents/Work/Courses/algorithms_in_bioinformatics/phylogenetic_tree_reconstruction/data/compare.raxml.mlTrees\n",
      "Optimized model saved to: /Users/emiha442/Documents/Work/Courses/algorithms_in_bioinformatics/phylogenetic_tree_reconstruction/data/compare.raxml.bestModel\n",
      "\n",
      "Execution log saved to: /Users/emiha442/Documents/Work/Courses/algorithms_in_bioinformatics/phylogenetic_tree_reconstruction/data/compare.raxml.log\n",
      "\n",
      "Analysis started: 13-Mar-2019 08:47:06 / finished: 13-Mar-2019 08:47:06\n",
      "\n",
      "Elapsed time: 0.041 seconds\n",
      "\n"
     ]
    }
   ],
   "source": [
    "%%bash\n",
    "cat ./data/used_alignment.msa\n",
    "sed 's/>//g' ./data/starting_trees.tree > ./data/starting_trees_edit.tree\n",
    "cat ./data/starting_trees_edit.tree\n",
    "./data/raxml-ng --evaluate --msa ./data/used_alignment.msa --model JC --prefix ./data/compare --threads 2  --tree ./data/starting_trees_edit.tree --redo\n",
    "grep 'initial' ./data/compare.raxml.log > ./data/initial_log_likelihoods.txt\n",
    "grep 'final' ./data/compare.raxml.log > ./data/final_log_likelihoods.txt"
   ]
  },
  {
   "cell_type": "markdown",
   "metadata": {},
   "source": [
    "Here is a small function to read the files with the log-likelihood values."
   ]
  },
  {
   "cell_type": "code",
   "execution_count": 286,
   "metadata": {},
   "outputs": [],
   "source": [
    "def read_logL_files(path):\n",
    "    log_likelihoods = []\n",
    "    with open(path, 'r') as f:\n",
    "        for line in f:\n",
    "            line = line.strip()\n",
    "            line = line.split(\" \")\n",
    "            logL = float(line[-1])\n",
    "            log_likelihoods.append(logL)\n",
    "\n",
    "    return log_likelihoods"
   ]
  },
  {
   "cell_type": "markdown",
   "metadata": {},
   "source": [
    "Now we read the results obtained from RAxML and plot it against the result we obtain with the functions implemented in our notebook."
   ]
  },
  {
   "cell_type": "code",
   "execution_count": 289,
   "metadata": {},
   "outputs": [
    {
     "data": {
      "image/png": "[encoded data removed]",
      "text/plain": [
       "<Figure size 432x288 with 1 Axes>"
      ]
     },
     "metadata": {
      "needs_background": "light"
     },
     "output_type": "display_data"
    }
   ],
   "source": [
    "raxml_final_logL = read_logL_files('./data/final_log_likelihoods.txt')\n",
    "raxml_initial_logl = read_logL_files('./data/initial_log_likelihoods.txt')\n",
    "raw_data = {'RAxML_init':raxml_initial_logl, 'RAxML_final':raxml_final_logL, 'init':starting_tree_scores, 'final':best_tree_scores}\n",
    "for k in raw_data.keys():\n",
    "    posLog = [-i for i in raw_data[k]]\n",
    "    raw_data[k] = posLog\n",
    "raw_df = pd.DataFrame.from_dict(raw_data)\n",
    "raw_df['Tree'] = raw_df.index + 1\n",
    "plotting_data = pd.melt(raw_df, id_vars=['Tree'])\n",
    "plotting_data\n",
    "sns.barplot(x='Tree', y='value', hue='variable', data=plotting_data)\n",
    "\n",
    "plt.show()\n"
   ]
  },
  {
   "cell_type": "code",
   "execution_count": 288,
   "metadata": {},
   "outputs": [
    {
     "name": "stdout",
     "output_type": "stream",
     "text": [
      "      15 ./data/starting_trees.tree\n"
     ]
    }
   ],
   "source": [
    "%%bash\n",
    "wc -l ./data/starting_trees.tree"
   ]
  },
  {
   "cell_type": "code",
   "execution_count": null,
   "metadata": {},
   "outputs": [],
   "source": []
  }
 ],
 "metadata": {
  "kernelspec": {
   "display_name": "Python 3",
   "language": "python",
   "name": "python3"
  },
  "language_info": {
   "codemirror_mode": {
    "name": "ipython",
    "version": 3
   },
   "file_extension": ".py",
   "mimetype": "text/x-python",
   "name": "python",
   "nbconvert_exporter": "python",
   "pygments_lexer": "ipython3",
   "version": "3.5.5"
  }
 },
 "nbformat": 4,
 "nbformat_minor": 2
}
